{
 "cells": [
  {
   "cell_type": "code",
   "execution_count": 1,
   "metadata": {},
   "outputs": [],
   "source": [
    "import pandas as pd"
   ]
  },
  {
   "cell_type": "code",
   "execution_count": 2,
   "metadata": {},
   "outputs": [],
   "source": [
    "from validators.new_ias_report_ai import save_file_DataIAS"
   ]
  },
  {
   "cell_type": "markdown",
   "metadata": {},
   "source": [
    "### Отправить заявки на комиссию"
   ]
  },
  {
   "cell_type": "code",
   "execution_count": 4,
   "metadata": {
    "scrolled": true
   },
   "outputs": [
    {
     "name": "stdout",
     "output_type": "stream",
     "text": [
      "Файл обновлен - C:/DataIAS/Список спортмероприятий IASControl.xlsx\n",
      "Общая проверка по отвественным успешно пройдена!\n",
      "Общая проверка по триггерам успешно пройдена!\n",
      "Общая проверка по Статусу успешно пройдена!\n",
      "Общая проверка по Виду спорта успешно пройдена!\n",
      "Все проверки пройдены\n",
      "Файл обновлен -  C:/DataIAS/Список спортмероприятий (на комиссию).xlsx\n"
     ]
    }
   ],
   "source": [
    "#Валидация\n",
    "save_file_DataIAS('на комиссию')"
   ]
  },
  {
   "cell_type": "code",
   "execution_count": 5,
   "metadata": {},
   "outputs": [],
   "source": [
    "file_name = r\"C:/DataIAS/Список спортмероприятий (на комиссию).xlsx\""
   ]
  },
  {
   "cell_type": "code",
   "execution_count": 6,
   "metadata": {},
   "outputs": [
    {
     "name": "stderr",
     "output_type": "stream",
     "text": [
      "C:\\Users\\Bulgakov.rs\\AppData\\Local\\Temp\\ipykernel_26076\\564289529.py:4: FutureWarning: Setting an item of incompatible dtype is deprecated and will raise in a future error of pandas. Value '' has dtype incompatible with float64, please explicitly cast to a compatible dtype first.\n",
      "  df.iloc[:,1] = ''\n"
     ]
    }
   ],
   "source": [
    "#Загрузить файл с реестровыми номерами\n",
    "xls = pd.ExcelFile(file_name)\n",
    "df = pd.read_excel(xls, 'Sheet1')\n",
    "df.iloc[:,1] = ''"
   ]
  },
  {
   "cell_type": "code",
   "execution_count": 7,
   "metadata": {},
   "outputs": [
    {
     "name": "stdout",
     "output_type": "stream",
     "text": [
      "0 из 43\n",
      "=== 96089 ===\n",
      "1 из 43\n",
      "=== 77712 ===\n",
      "2 из 43\n",
      "=== 78850 ===\n",
      "3 из 43\n",
      "=== 57433 ===\n",
      "4 из 43\n",
      "=== 96320 ===\n",
      "5 из 43\n",
      "=== 96333 ===\n",
      "6 из 43\n",
      "=== 96356 ===\n",
      "7 из 43\n",
      "=== 96358 ===\n",
      "8 из 43\n",
      "=== 87254 ===\n",
      "9 из 43\n",
      "=== 96303 ===\n",
      "10 из 43\n",
      "=== 96181 ===\n",
      "11 из 43\n",
      "=== 96282 ===\n",
      "12 из 43\n",
      "=== 95828 ===\n",
      "13 из 43\n",
      "=== 96284 ===\n",
      "14 из 43\n",
      "=== 96334 ===\n",
      "15 из 43\n",
      "=== 84397 ===\n",
      "16 из 43\n",
      "=== 96150 ===\n",
      "17 из 43\n",
      "=== 96324 ===\n",
      "18 из 43\n",
      "=== 96326 ===\n",
      "19 из 43\n",
      "=== 96332 ===\n",
      "20 из 43\n",
      "=== 96141 ===\n",
      "21 из 43\n",
      "=== 96349 ===\n",
      "22 из 43\n",
      "=== 96311 ===\n",
      "23 из 43\n",
      "=== 96054 ===\n",
      "24 из 43\n",
      "=== 86838 ===\n",
      "25 из 43\n",
      "=== 96224 ===\n",
      "26 из 43\n",
      "=== 96169 ===\n",
      "27 из 43\n",
      "=== 96317 ===\n",
      "28 из 43\n",
      "=== 96285 ===\n",
      "29 из 43\n",
      "=== 87185 ===\n",
      "30 из 43\n",
      "=== 96328 ===\n",
      "31 из 43\n",
      "=== 89712 ===\n",
      "32 из 43\n",
      "=== 96248 ===\n",
      "33 из 43\n",
      "=== 96250 ===\n",
      "34 из 43\n",
      "=== 96355 ===\n",
      "35 из 43\n",
      "=== 96367 ===\n",
      "36 из 43\n",
      "=== 96368 ===\n",
      "37 из 43\n",
      "=== 95551 ===\n",
      "38 из 43\n",
      "=== 95716 ===\n",
      "39 из 43\n",
      "=== 95717 ===\n",
      "40 из 43\n",
      "=== 96171 ===\n",
      "41 из 43\n",
      "=== 87064 ===\n",
      "42 из 43\n",
      "=== 87367 ===\n",
      "43 из 43\n",
      "=== 95846 ===\n"
     ]
    },
    {
     "data": {
      "text/plain": [
       "[]"
      ]
     },
     "execution_count": 7,
     "metadata": {},
     "output_type": "execute_result"
    }
   ],
   "source": [
    "import new_ias_main_function as ias\n",
    "#Функция отправки списка мероприятий на комиссию\n",
    "ias.commission_application(2025, df)"
   ]
  },
  {
   "cell_type": "code",
   "execution_count": 8,
   "metadata": {},
   "outputs": [],
   "source": [
    "df = (df[df['Реестр №'] < 0])\n",
    "df.to_excel(file_name, index=False)"
   ]
  },
  {
   "cell_type": "code",
   "execution_count": null,
   "metadata": {},
   "outputs": [],
   "source": []
  }
 ],
 "metadata": {
  "kernelspec": {
   "display_name": "Python 3 (ipykernel)",
   "language": "python",
   "name": "python3"
  },
  "language_info": {
   "codemirror_mode": {
    "name": "ipython",
    "version": 3
   },
   "file_extension": ".py",
   "mimetype": "text/x-python",
   "name": "python",
   "nbconvert_exporter": "python",
   "pygments_lexer": "ipython3",
   "version": "3.12.7"
  }
 },
 "nbformat": 4,
 "nbformat_minor": 4
}
