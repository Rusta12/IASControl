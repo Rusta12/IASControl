{
 "cells": [
  {
   "cell_type": "code",
   "execution_count": 1,
   "metadata": {},
   "outputs": [],
   "source": [
    "import pandas as pd"
   ]
  },
  {
   "cell_type": "code",
   "execution_count": 2,
   "metadata": {},
   "outputs": [],
   "source": [
    "from validators.new_ias_report_ai import save_file_DataIAS"
   ]
  },
  {
   "cell_type": "markdown",
   "metadata": {},
   "source": [
    "### Отправить заявки на комиссию"
   ]
  },
  {
   "cell_type": "code",
   "execution_count": 3,
   "metadata": {
    "scrolled": true
   },
   "outputs": [],
   "source": [
    "#Валидация\n",
    "#save_file_DataIAS('на комиссию')"
   ]
  },
  {
   "cell_type": "code",
   "execution_count": 4,
   "metadata": {},
   "outputs": [],
   "source": [
    "file_name = r\"C:/DataIAS/Список спортмероприятий (на комиссию).xlsx\""
   ]
  },
  {
   "cell_type": "code",
   "execution_count": 5,
   "metadata": {},
   "outputs": [],
   "source": [
    "#Загрузить файл с реестровыми номерами\n",
    "xls = pd.ExcelFile(file_name)\n",
    "df = pd.read_excel(xls, 'Sheet1')\n",
    "df.iloc[:,1] = ''"
   ]
  },
  {
   "cell_type": "code",
   "execution_count": 6,
   "metadata": {},
   "outputs": [
    {
     "name": "stdout",
     "output_type": "stream",
     "text": [
      "0 из 24\n",
      "=== 94633 ===\n",
      "1 из 24\n",
      "=== 94184 ===\n",
      "2 из 24\n",
      "=== 62394 ===\n",
      "3 из 24\n",
      "=== 56852 ===\n",
      "4 из 24\n",
      "=== 72557 ===\n",
      "5 из 24\n",
      "=== 81109 ===\n",
      "6 из 24\n",
      "=== 69133 ===\n",
      "7 из 24\n",
      "=== 74887 ===\n",
      "8 из 24\n",
      "=== 82773 ===\n",
      "9 из 24\n",
      "=== 94452 ===\n",
      "10 из 24\n",
      "=== 71293 ===\n",
      "11 из 24\n",
      "=== 94536 ===\n",
      "12 из 24\n",
      "=== 86445 ===\n",
      "13 из 24\n",
      "=== 81 ===\n",
      "14 из 24\n",
      "=== 77447 ===\n",
      "15 из 24\n",
      "=== 54163 ===\n",
      "16 из 24\n",
      "=== 38329 ===\n",
      "17 из 24\n",
      "=== 54167 ===\n",
      "18 из 24\n",
      "=== 72396 ===\n",
      "72396 Мероприятие не найдено\n",
      "19 из 24\n",
      "=== 94379 ===\n",
      "20 из 24\n",
      "=== 77183 ===\n",
      "21 из 24\n",
      "=== 93812 ===\n",
      "22 из 24\n",
      "=== 89056 ===\n",
      "23 из 24\n",
      "=== 66773 ===\n",
      "24 из 24\n",
      "=== 85243 ===\n"
     ]
    },
    {
     "data": {
      "text/plain": [
       "[72396]"
      ]
     },
     "execution_count": 6,
     "metadata": {},
     "output_type": "execute_result"
    }
   ],
   "source": [
    "import new_ias_main_function as ias\n",
    "#Функция отправки списка мероприятий на комиссию\n",
    "ias.commission_application(2025, df)"
   ]
  },
  {
   "cell_type": "code",
   "execution_count": 7,
   "metadata": {},
   "outputs": [],
   "source": [
    "df = (df[df['Реестр №'] < 0])\n",
    "df.to_excel(file_name, index=False)"
   ]
  },
  {
   "cell_type": "code",
   "execution_count": null,
   "metadata": {},
   "outputs": [],
   "source": []
  }
 ],
 "metadata": {
  "kernelspec": {
   "display_name": "Python 3",
   "language": "python",
   "name": "python3"
  },
  "language_info": {
   "codemirror_mode": {
    "name": "ipython",
    "version": 3
   },
   "file_extension": ".py",
   "mimetype": "text/x-python",
   "name": "python",
   "nbconvert_exporter": "python",
   "pygments_lexer": "ipython3",
   "version": "3.8.5"
  }
 },
 "nbformat": 4,
 "nbformat_minor": 4
}
