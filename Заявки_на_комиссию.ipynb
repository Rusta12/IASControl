{
 "cells": [
  {
   "cell_type": "code",
   "execution_count": 1,
   "metadata": {},
   "outputs": [],
   "source": [
    "import pandas as pd"
   ]
  },
  {
   "cell_type": "code",
   "execution_count": 2,
   "metadata": {},
   "outputs": [],
   "source": [
    "from validators.new_ias_report_ai import save_file_DataIAS"
   ]
  },
  {
   "cell_type": "markdown",
   "metadata": {},
   "source": [
    "### Отправить заявки на комиссию"
   ]
  },
  {
   "cell_type": "code",
   "execution_count": 3,
   "metadata": {
    "scrolled": true
   },
   "outputs": [],
   "source": [
    "#Валидация\n",
    "#save_file_DataIAS('на комиссию')"
   ]
  },
  {
   "cell_type": "code",
   "execution_count": 4,
   "metadata": {},
   "outputs": [],
   "source": [
    "file_name = r\"C:/DataIAS/Список спортмероприятий (на комиссию).xlsx\""
   ]
  },
  {
   "cell_type": "code",
   "execution_count": 5,
   "metadata": {},
   "outputs": [],
   "source": [
    "#Загрузить файл с реестровыми номерами\n",
    "xls = pd.ExcelFile(file_name)\n",
    "df = pd.read_excel(xls, 'Sheet1')\n",
    "df.iloc[:,1] = ''"
   ]
  },
  {
   "cell_type": "code",
   "execution_count": 6,
   "metadata": {},
   "outputs": [
    {
     "name": "stdout",
     "output_type": "stream",
     "text": [
      "0 из 66\n",
      "=== 25105 ===\n",
      "1 из 66\n",
      "=== 72284 ===\n",
      "2 из 66\n",
      "=== 81875 ===\n",
      "3 из 66\n",
      "=== 81874 ===\n",
      "4 из 66\n",
      "=== 81877 ===\n",
      "5 из 66\n",
      "=== 81872 ===\n",
      "6 из 66\n",
      "=== 81878 ===\n",
      "7 из 66\n",
      "=== 81880 ===\n",
      "8 из 66\n",
      "=== 81883 ===\n",
      "9 из 66\n",
      "=== 81882 ===\n",
      "10 из 66\n",
      "=== 81873 ===\n",
      "11 из 66\n",
      "=== 62214 ===\n",
      "12 из 66\n",
      "=== 63200 ===\n",
      "13 из 66\n",
      "=== 77195 ===\n",
      "14 из 66\n",
      "=== 56201 ===\n",
      "15 из 66\n",
      "=== 4992 ===\n",
      "16 из 66\n",
      "=== 4994 ===\n",
      "17 из 66\n",
      "=== 53425 ===\n",
      "18 из 66\n",
      "=== 4291 ===\n",
      "19 из 66\n",
      "=== 250 ===\n",
      "20 из 66\n",
      "=== 91054 ===\n",
      "21 из 66\n",
      "=== 91060 ===\n",
      "91060 Мероприятие не найдено\n",
      "22 из 66\n",
      "=== 91192 ===\n",
      "23 из 66\n",
      "=== 91193 ===\n",
      "24 из 66\n",
      "=== 91194 ===\n",
      "25 из 66\n",
      "=== 91195 ===\n",
      "26 из 66\n",
      "=== 91196 ===\n",
      "27 из 66\n",
      "=== 91197 ===\n",
      "28 из 66\n",
      "=== 91198 ===\n",
      "29 из 66\n",
      "=== 91199 ===\n",
      "30 из 66\n",
      "=== 91200 ===\n",
      "31 из 66\n",
      "=== 91202 ===\n",
      "32 из 66\n",
      "=== 91203 ===\n",
      "33 из 66\n",
      "=== 63960 ===\n",
      "34 из 66\n",
      "=== 63965 ===\n",
      "35 из 66\n",
      "=== 63968 ===\n",
      "36 из 66\n",
      "=== 63973 ===\n",
      "37 из 66\n",
      "=== 79807 ===\n",
      "38 из 66\n",
      "=== 91452 ===\n",
      "39 из 66\n",
      "=== 14968 ===\n",
      "40 из 66\n",
      "=== 62829 ===\n",
      "41 из 66\n",
      "=== 62411 ===\n",
      "42 из 66\n",
      "=== 62366 ===\n",
      "43 из 66\n",
      "=== 71155 ===\n",
      "44 из 66\n",
      "=== 82514 ===\n",
      "45 из 66\n",
      "=== 86794 ===\n",
      "46 из 66\n",
      "=== 61639 ===\n",
      "47 из 66\n",
      "=== 65684 ===\n",
      "48 из 66\n",
      "=== 71154 ===\n",
      "49 из 66\n",
      "=== 86162 ===\n",
      "50 из 66\n",
      "=== 86144 ===\n",
      "51 из 66\n",
      "=== 91747 ===\n",
      "52 из 66\n",
      "=== 91937 ===\n",
      "53 из 66\n",
      "=== 91938 ===\n",
      "54 из 66\n",
      "=== 91956 ===\n",
      "55 из 66\n",
      "=== 87758 ===\n",
      "56 из 66\n",
      "=== 90367 ===\n",
      "57 из 66\n",
      "=== 2741 ===\n",
      "58 из 66\n",
      "=== 113 ===\n",
      "59 из 66\n",
      "=== 2896 ===\n",
      "60 из 66\n",
      "=== 91748 ===\n",
      "61 из 66\n",
      "=== 91853 ===\n",
      "62 из 66\n",
      "=== 91551 ===\n",
      "63 из 66\n",
      "=== 76916 ===\n",
      "64 из 66\n",
      "=== 76569 ===\n",
      "65 из 66\n",
      "=== 91909 ===\n",
      "66 из 66\n",
      "=== 77047 ===\n"
     ]
    },
    {
     "data": {
      "text/plain": [
       "[91060]"
      ]
     },
     "execution_count": 6,
     "metadata": {},
     "output_type": "execute_result"
    }
   ],
   "source": [
    "import new_ias_main_function as ias\n",
    "#Функция отправки списка мероприятий на комиссию\n",
    "ias.commission_application(2025, df)"
   ]
  },
  {
   "cell_type": "code",
   "execution_count": 7,
   "metadata": {},
   "outputs": [],
   "source": [
    "df = (df[df['Реестр №'] < 0])\n",
    "df.to_excel(file_name, index=False)"
   ]
  },
  {
   "cell_type": "code",
   "execution_count": null,
   "metadata": {},
   "outputs": [],
   "source": []
  }
 ],
 "metadata": {
  "kernelspec": {
   "display_name": "Python 3",
   "language": "python",
   "name": "python3"
  },
  "language_info": {
   "codemirror_mode": {
    "name": "ipython",
    "version": 3
   },
   "file_extension": ".py",
   "mimetype": "text/x-python",
   "name": "python",
   "nbconvert_exporter": "python",
   "pygments_lexer": "ipython3",
   "version": "3.8.3"
  }
 },
 "nbformat": 4,
 "nbformat_minor": 4
}
