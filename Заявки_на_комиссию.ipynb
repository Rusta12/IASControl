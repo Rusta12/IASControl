{
 "cells": [
  {
   "cell_type": "code",
   "execution_count": 1,
   "metadata": {},
   "outputs": [],
   "source": [
    "import pandas as pd"
   ]
  },
  {
   "cell_type": "code",
   "execution_count": 2,
   "metadata": {},
   "outputs": [],
   "source": [
    "from validators.new_ias_report_ai import save_file_DataIAS"
   ]
  },
  {
   "cell_type": "markdown",
   "metadata": {},
   "source": [
    "### Отправить заявки на комиссию"
   ]
  },
  {
   "cell_type": "code",
   "execution_count": 4,
   "metadata": {
    "scrolled": true
   },
   "outputs": [],
   "source": [
    "#Валидация\n",
    "#save_file_DataIAS('на комиссию')"
   ]
  },
  {
   "cell_type": "code",
   "execution_count": 5,
   "metadata": {},
   "outputs": [],
   "source": [
    "file_name = r\"C:/DataIAS/Список спортмероприятий (на комиссию).xlsx\""
   ]
  },
  {
   "cell_type": "code",
   "execution_count": 6,
   "metadata": {},
   "outputs": [
    {
     "name": "stderr",
     "output_type": "stream",
     "text": [
      "C:\\Users\\Bulgakov.rs\\AppData\\Local\\Temp\\ipykernel_336\\564289529.py:4: FutureWarning: Setting an item of incompatible dtype is deprecated and will raise in a future error of pandas. Value '' has dtype incompatible with float64, please explicitly cast to a compatible dtype first.\n",
      "  df.iloc[:,1] = ''\n"
     ]
    }
   ],
   "source": [
    "#Загрузить файл с реестровыми номерами\n",
    "xls = pd.ExcelFile(file_name)\n",
    "df = pd.read_excel(xls, 'Sheet1')\n",
    "df.iloc[:,1] = ''"
   ]
  },
  {
   "cell_type": "code",
   "execution_count": 7,
   "metadata": {},
   "outputs": [
    {
     "name": "stdout",
     "output_type": "stream",
     "text": [
      "0 из 72\n",
      "=== 96660 ===\n",
      "1 из 72\n",
      "=== 96661 ===\n",
      "96661 Мероприятие не найдено\n",
      "2 из 72\n",
      "=== 96662 ===\n",
      "3 из 72\n",
      "=== 96595 ===\n",
      "4 из 72\n",
      "=== 96693 ===\n",
      "5 из 72\n",
      "=== 96586 ===\n",
      "6 из 72\n",
      "=== 59511 ===\n",
      "7 из 72\n",
      "=== 89970 ===\n",
      "8 из 72\n",
      "=== 81126 ===\n",
      "9 из 72\n",
      "=== 89673 ===\n",
      "10 из 72\n",
      "=== 96678 ===\n",
      "11 из 72\n",
      "=== 81801 ===\n",
      "12 из 72\n",
      "=== 96697 ===\n",
      "13 из 72\n",
      "=== 96698 ===\n",
      "14 из 72\n",
      "=== 96708 ===\n",
      "15 из 72\n",
      "=== 96650 ===\n",
      "16 из 72\n",
      "=== 96659 ===\n",
      "17 из 72\n",
      "=== 87088 ===\n",
      "18 из 72\n",
      "=== 96681 ===\n",
      "19 из 72\n",
      "=== 96684 ===\n",
      "20 из 72\n",
      "=== 89551 ===\n",
      "21 из 72\n",
      "=== 96648 ===\n",
      "22 из 72\n",
      "=== 87365 ===\n",
      "23 из 72\n",
      "=== 69637 ===\n",
      "24 из 72\n",
      "=== 81346 ===\n",
      "25 из 72\n",
      "=== 96574 ===\n",
      "26 из 72\n",
      "=== 96666 ===\n",
      "27 из 72\n",
      "=== 96668 ===\n",
      "28 из 72\n",
      "=== 96655 ===\n",
      "29 из 72\n",
      "=== 87587 ===\n",
      "30 из 72\n",
      "=== 87642 ===\n",
      "31 из 72\n",
      "=== 96685 ===\n",
      "32 из 72\n",
      "=== 96711 ===\n",
      "33 из 72\n",
      "=== 89524 ===\n",
      "34 из 72\n",
      "=== 96322 ===\n",
      "35 из 72\n",
      "=== 60504 ===\n",
      "36 из 72\n",
      "=== 60584 ===\n",
      "37 из 72\n",
      "=== 79046 ===\n",
      "38 из 72\n",
      "=== 60583 ===\n",
      "39 из 72\n",
      "=== 60585 ===\n",
      "40 из 72\n",
      "=== 96691 ===\n",
      "41 из 72\n",
      "=== 80244 ===\n",
      "42 из 72\n",
      "=== 81470 ===\n",
      "43 из 72\n",
      "=== 81992 ===\n",
      "81992 Мероприятие не найдено\n",
      "44 из 72\n",
      "=== 62264 ===\n",
      "45 из 72\n",
      "=== 87867 ===\n",
      "46 из 72\n",
      "=== 96694 ===\n",
      "47 из 72\n",
      "=== 96696 ===\n",
      "48 из 72\n",
      "=== 96562 ===\n",
      "49 из 72\n",
      "=== 95492 ===\n",
      "50 из 72\n",
      "=== 68911 ===\n",
      "51 из 72\n",
      "=== 87258 ===\n",
      "52 из 72\n",
      "=== 72720 ===\n",
      "53 из 72\n",
      "=== 72718 ===\n",
      "54 из 72\n",
      "=== 96700 ===\n",
      "55 из 72\n",
      "=== 86786 ===\n",
      "56 из 72\n",
      "=== 86902 ===\n",
      "57 из 72\n",
      "=== 96656 ===\n",
      "58 из 72\n",
      "=== 89537 ===\n",
      "59 из 72\n",
      "=== 58776 ===\n",
      "60 из 72\n",
      "=== 70866 ===\n",
      "61 из 72\n",
      "=== 79734 ===\n",
      "62 из 72\n",
      "=== 87560 ===\n",
      "63 из 72\n",
      "=== 69347 ===\n",
      "64 из 72\n",
      "=== 95809 ===\n",
      "65 из 72\n",
      "=== 68456 ===\n",
      "66 из 72\n",
      "=== 79708 ===\n",
      "67 из 72\n",
      "=== 96654 ===\n",
      "68 из 72\n",
      "=== 96703 ===\n",
      "69 из 72\n",
      "=== 90063 ===\n",
      "70 из 72\n",
      "=== 96555 ===\n",
      "71 из 72\n",
      "=== 96207 ===\n",
      "72 из 72\n",
      "=== 96458 ===\n",
      "96458 Мероприятие не найдено\n"
     ]
    },
    {
     "data": {
      "text/plain": [
       "[96661, 81992, 96458]"
      ]
     },
     "execution_count": 7,
     "metadata": {},
     "output_type": "execute_result"
    }
   ],
   "source": [
    "import new_ias_main_function as ias\n",
    "#Функция отправки списка мероприятий на комиссию\n",
    "ias.commission_application(2025, df, '2.1')"
   ]
  },
  {
   "cell_type": "code",
   "execution_count": 8,
   "metadata": {},
   "outputs": [],
   "source": [
    "df = (df[df['Реестр №'] < 0])\n",
    "df.to_excel(file_name, index=False)"
   ]
  },
  {
   "cell_type": "code",
   "execution_count": null,
   "metadata": {},
   "outputs": [],
   "source": []
  }
 ],
 "metadata": {
  "kernelspec": {
   "display_name": "Python 3 (ipykernel)",
   "language": "python",
   "name": "python3"
  },
  "language_info": {
   "codemirror_mode": {
    "name": "ipython",
    "version": 3
   },
   "file_extension": ".py",
   "mimetype": "text/x-python",
   "name": "python",
   "nbconvert_exporter": "python",
   "pygments_lexer": "ipython3",
   "version": "3.12.7"
  }
 },
 "nbformat": 4,
 "nbformat_minor": 4
}
