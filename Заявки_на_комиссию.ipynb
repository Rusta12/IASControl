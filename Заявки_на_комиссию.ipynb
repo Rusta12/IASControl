{
 "cells": [
  {
   "cell_type": "code",
   "execution_count": 1,
   "metadata": {},
   "outputs": [],
   "source": [
    "import pandas as pd"
   ]
  },
  {
   "cell_type": "code",
   "execution_count": 2,
   "metadata": {},
   "outputs": [],
   "source": [
    "from validators.new_ias_report_ai import save_file_DataIAS\n",
    "import new_ias_main_function as ias"
   ]
  },
  {
   "cell_type": "markdown",
   "metadata": {},
   "source": [
    "### Отправить заявки на комиссию"
   ]
  },
  {
   "cell_type": "code",
   "execution_count": 3,
   "metadata": {},
   "outputs": [],
   "source": [
    "#Валидация\n",
    "#save_file_DataIAS('на комиссию')"
   ]
  },
  {
   "cell_type": "code",
   "execution_count": 4,
   "metadata": {},
   "outputs": [],
   "source": [
    "file_name = r\"C:/DataIAS/Список спортмероприятий (на комиссию).xlsx\""
   ]
  },
  {
   "cell_type": "code",
   "execution_count": 5,
   "metadata": {
    "scrolled": true
   },
   "outputs": [],
   "source": [
    "#Загрузить файл с реестровыми номерами\n",
    "xls = pd.ExcelFile(file_name)\n",
    "df = pd.read_excel(xls, 'Sheet1')\n",
    "df.iloc[:,1] = ''"
   ]
  },
  {
   "cell_type": "code",
   "execution_count": 6,
   "metadata": {
    "scrolled": true
   },
   "outputs": [
    {
     "name": "stdout",
     "output_type": "stream",
     "text": [
      "0 из 52\n",
      "=== 81325 ===\n",
      "81325 Мероприятие не найдено\n",
      "1 из 52\n",
      "=== 87338 ===\n",
      "2 из 52\n",
      "=== 89678 ===\n",
      "3 из 52\n",
      "=== 81104 ===\n",
      "4 из 52\n",
      "=== 89673 ===\n",
      "5 из 52\n",
      "=== 89628 ===\n",
      "6 из 52\n",
      "=== 89688 ===\n",
      "7 из 52\n",
      "=== 81066 ===\n",
      "8 из 52\n",
      "=== 89570 ===\n",
      "9 из 52\n",
      "=== 89656 ===\n",
      "10 из 52\n",
      "=== 89734 ===\n",
      "11 из 52\n",
      "=== 89669 ===\n",
      "12 из 52\n",
      "=== 89702 ===\n",
      "13 из 52\n",
      "=== 89695 ===\n",
      "14 из 52\n",
      "=== 89736 ===\n",
      "15 из 52\n",
      "=== 81668 ===\n",
      "16 из 52\n",
      "=== 81675 ===\n",
      "17 из 52\n",
      "=== 81679 ===\n",
      "18 из 52\n",
      "=== 81898 ===\n",
      "19 из 52\n",
      "=== 81899 ===\n",
      "20 из 52\n",
      "=== 89172 ===\n",
      "21 из 52\n",
      "=== 89400 ===\n",
      "22 из 52\n",
      "=== 89739 ===\n",
      "23 из 52\n",
      "=== 89740 ===\n",
      "24 из 52\n",
      "=== 89743 ===\n",
      "25 из 52\n",
      "=== 89746 ===\n",
      "26 из 52\n",
      "=== 82617 ===\n",
      "27 из 52\n",
      "=== 89647 ===\n",
      "28 из 52\n",
      "=== 89708 ===\n",
      "29 из 52\n",
      "=== 89742 ===\n",
      "30 из 52\n",
      "=== 88804 ===\n",
      "31 из 52\n",
      "=== 89341 ===\n",
      "32 из 52\n",
      "=== 89434 ===\n",
      "33 из 52\n",
      "=== 89435 ===\n",
      "34 из 52\n",
      "=== 89722 ===\n",
      "35 из 52\n",
      "=== 89684 ===\n",
      "36 из 52\n",
      "=== 89704 ===\n",
      "37 из 52\n",
      "=== 89731 ===\n",
      "38 из 52\n",
      "=== 89690 ===\n",
      "39 из 52\n",
      "=== 64291 ===\n",
      "40 из 52\n",
      "=== 64308 ===\n",
      "41 из 52\n",
      "=== 89454 ===\n",
      "42 из 52\n",
      "=== 89618 ===\n",
      "43 из 52\n",
      "=== 89683 ===\n",
      "44 из 52\n",
      "=== 89654 ===\n",
      "45 из 52\n",
      "=== 89636 ===\n",
      "46 из 52\n",
      "=== 89693 ===\n",
      "47 из 52\n",
      "=== 89422 ===\n",
      "48 из 52\n",
      "=== 89637 ===\n",
      "49 из 52\n",
      "=== 89668 ===\n",
      "50 из 52\n",
      "=== 89715 ===\n",
      "89715 Мероприятие не найдено\n",
      "51 из 52\n",
      "=== 89718 ===\n",
      "52 из 52\n",
      "=== 63457 ===\n"
     ]
    },
    {
     "data": {
      "text/plain": [
       "[81325, 89715]"
      ]
     },
     "execution_count": 6,
     "metadata": {},
     "output_type": "execute_result"
    }
   ],
   "source": [
    "#Функция отправки списка мероприятий на комиссию\n",
    "ias.commission_application(2024, df)\n"
   ]
  },
  {
   "cell_type": "code",
   "execution_count": 7,
   "metadata": {},
   "outputs": [],
   "source": [
    "df = (df[df['Реестр №'] < 0])\n",
    "df.to_excel(file_name, index=False)"
   ]
  },
  {
   "cell_type": "code",
   "execution_count": null,
   "metadata": {},
   "outputs": [],
   "source": []
  }
 ],
 "metadata": {
  "kernelspec": {
   "display_name": "Python 3",
   "language": "python",
   "name": "python3"
  },
  "language_info": {
   "codemirror_mode": {
    "name": "ipython",
    "version": 3
   },
   "file_extension": ".py",
   "mimetype": "text/x-python",
   "name": "python",
   "nbconvert_exporter": "python",
   "pygments_lexer": "ipython3",
   "version": "3.8.5"
  }
 },
 "nbformat": 4,
 "nbformat_minor": 4
}
