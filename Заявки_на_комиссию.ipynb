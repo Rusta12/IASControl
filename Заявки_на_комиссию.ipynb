{
 "cells": [
  {
   "cell_type": "code",
   "execution_count": 1,
   "metadata": {},
   "outputs": [],
   "source": [
    "import pandas as pd"
   ]
  },
  {
   "cell_type": "code",
   "execution_count": 2,
   "metadata": {},
   "outputs": [],
   "source": [
    "from validators.new_ias_report_ai import save_file_DataIAS"
   ]
  },
  {
   "cell_type": "markdown",
   "metadata": {},
   "source": [
    "### Отправить заявки на комиссию"
   ]
  },
  {
   "cell_type": "code",
   "execution_count": 4,
   "metadata": {
    "scrolled": true
   },
   "outputs": [
    {
     "name": "stdout",
     "output_type": "stream",
     "text": [
      "Файл обновлен - C:/DataIAS/Список спортмероприятий IASControl.xlsx\n",
      "Общая проверка по отвественным успешно пройдена!\n",
      "Общая проверка по триггерам успешно пройдена!\n",
      "Общая проверка по Статусу успешно пройдена!\n",
      "Общая проверка по Виду спорта успешно пройдена!\n",
      "Все проверки пройдены\n",
      "Файл обновлен -  C:/DataIAS/Список спортмероприятий (на комиссию).xlsx\n"
     ]
    }
   ],
   "source": [
    "#Валидация\n",
    "save_file_DataIAS('на комиссию')"
   ]
  },
  {
   "cell_type": "code",
   "execution_count": 5,
   "metadata": {},
   "outputs": [],
   "source": [
    "file_name = r\"C:/DataIAS/Список спортмероприятий (на комиссию).xlsx\""
   ]
  },
  {
   "cell_type": "code",
   "execution_count": 6,
   "metadata": {},
   "outputs": [
    {
     "name": "stderr",
     "output_type": "stream",
     "text": [
      "C:\\Users\\Bulgakov.rs\\AppData\\Local\\Temp\\ipykernel_22216\\564289529.py:4: FutureWarning: Setting an item of incompatible dtype is deprecated and will raise in a future error of pandas. Value '' has dtype incompatible with float64, please explicitly cast to a compatible dtype first.\n",
      "  df.iloc[:,1] = ''\n"
     ]
    }
   ],
   "source": [
    "#Загрузить файл с реестровыми номерами\n",
    "xls = pd.ExcelFile(file_name)\n",
    "df = pd.read_excel(xls, 'Sheet1')\n",
    "df.iloc[:,1] = ''"
   ]
  },
  {
   "cell_type": "code",
   "execution_count": 7,
   "metadata": {},
   "outputs": [
    {
     "name": "stdout",
     "output_type": "stream",
     "text": [
      "0 из 20\n",
      "=== 96480 ===\n",
      "1 из 20\n",
      "=== 96913 ===\n",
      "2 из 20\n",
      "=== 96921 ===\n",
      "3 из 20\n",
      "=== 96933 ===\n",
      "4 из 20\n",
      "=== 96270 ===\n",
      "5 из 20\n",
      "=== 79579 ===\n",
      "6 из 20\n",
      "=== 75276 ===\n",
      "7 из 20\n",
      "=== 86764 ===\n",
      "8 из 20\n",
      "=== 85945 ===\n",
      "9 из 20\n",
      "=== 96568 ===\n",
      "10 из 20\n",
      "=== 96769 ===\n",
      "11 из 20\n",
      "=== 96928 ===\n",
      "12 из 20\n",
      "=== 96934 ===\n",
      "13 из 20\n",
      "=== 96802 ===\n",
      "14 из 20\n",
      "=== 96931 ===\n",
      "15 из 20\n",
      "=== 96910 ===\n",
      "16 из 20\n",
      "=== 96501 ===\n",
      "17 из 20\n",
      "=== 96346 ===\n",
      "18 из 20\n",
      "=== 96720 ===\n",
      "19 из 20\n",
      "=== 96746 ===\n",
      "20 из 20\n",
      "=== 96935 ===\n"
     ]
    },
    {
     "data": {
      "text/plain": [
       "[]"
      ]
     },
     "execution_count": 7,
     "metadata": {},
     "output_type": "execute_result"
    }
   ],
   "source": [
    "import new_ias_main_function as ias\n",
    "#Функция отправки списка мероприятий на комиссию\n",
    "ias.commission_application(2025, df, '2.1')"
   ]
  },
  {
   "cell_type": "code",
   "execution_count": 8,
   "metadata": {},
   "outputs": [],
   "source": [
    "df = (df[df['Реестр №'] < 0])\n",
    "df.to_excel(file_name, index=False)"
   ]
  },
  {
   "cell_type": "code",
   "execution_count": null,
   "metadata": {},
   "outputs": [],
   "source": []
  }
 ],
 "metadata": {
  "kernelspec": {
   "display_name": "Python 3 (ipykernel)",
   "language": "python",
   "name": "python3"
  },
  "language_info": {
   "codemirror_mode": {
    "name": "ipython",
    "version": 3
   },
   "file_extension": ".py",
   "mimetype": "text/x-python",
   "name": "python",
   "nbconvert_exporter": "python",
   "pygments_lexer": "ipython3",
   "version": "3.12.7"
  }
 },
 "nbformat": 4,
 "nbformat_minor": 4
}
