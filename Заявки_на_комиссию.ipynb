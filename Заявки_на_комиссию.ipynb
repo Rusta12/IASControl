{
 "cells": [
  {
   "cell_type": "code",
   "execution_count": 1,
   "metadata": {},
   "outputs": [],
   "source": [
    "import pandas as pd"
   ]
  },
  {
   "cell_type": "code",
   "execution_count": 2,
   "metadata": {},
   "outputs": [],
   "source": [
    "from validators.new_ias_report_ai import save_file_DataIAS"
   ]
  },
  {
   "cell_type": "markdown",
   "metadata": {},
   "source": [
    "### Отправить заявки на комиссию"
   ]
  },
  {
   "cell_type": "code",
   "execution_count": 4,
   "metadata": {
    "scrolled": true
   },
   "outputs": [
    {
     "name": "stdout",
     "output_type": "stream",
     "text": [
      "Файл обновлен - C:/DataIAS/Список спортмероприятий IASControl.xlsx\n",
      "Общая проверка по отвественным успешно пройдена!\n",
      "Общая проверка по триггерам успешно пройдена!\n",
      "Общая проверка по Статусу успешно пройдена!\n",
      "Общая проверка по Виду спорта успешно пройдена!\n",
      "Все проверки пройдены\n",
      "Файл обновлен -  C:/DataIAS/Список спортмероприятий (на комиссию).xlsx\n"
     ]
    }
   ],
   "source": [
    "#Валидация\n",
    "save_file_DataIAS('на комиссию')"
   ]
  },
  {
   "cell_type": "code",
   "execution_count": 5,
   "metadata": {},
   "outputs": [],
   "source": [
    "file_name = r\"C:/DataIAS/Список спортмероприятий (на комиссию).xlsx\""
   ]
  },
  {
   "cell_type": "code",
   "execution_count": 6,
   "metadata": {},
   "outputs": [
    {
     "name": "stderr",
     "output_type": "stream",
     "text": [
      "C:\\Users\\Bulgakov.rs\\AppData\\Local\\Temp\\ipykernel_10996\\564289529.py:4: FutureWarning: Setting an item of incompatible dtype is deprecated and will raise in a future error of pandas. Value '' has dtype incompatible with float64, please explicitly cast to a compatible dtype first.\n",
      "  df.iloc[:,1] = ''\n"
     ]
    }
   ],
   "source": [
    "#Загрузить файл с реестровыми номерами\n",
    "xls = pd.ExcelFile(file_name)\n",
    "df = pd.read_excel(xls, 'Sheet1')\n",
    "df.iloc[:,1] = ''"
   ]
  },
  {
   "cell_type": "code",
   "execution_count": 7,
   "metadata": {},
   "outputs": [
    {
     "name": "stdout",
     "output_type": "stream",
     "text": [
      "0 из 32\n",
      "=== 89061 ===\n",
      "1 из 32\n",
      "=== 61694 ===\n",
      "2 из 32\n",
      "=== 80902 ===\n",
      "3 из 32\n",
      "=== 91639 ===\n",
      "4 из 32\n",
      "=== 91645 ===\n",
      "5 из 32\n",
      "=== 91668 ===\n",
      "6 из 32\n",
      "=== 91673 ===\n",
      "7 из 32\n",
      "=== 95427 ===\n",
      "8 из 32\n",
      "=== 97486 ===\n",
      "9 из 32\n",
      "=== 97519 ===\n",
      "10 из 32\n",
      "=== 97634 ===\n",
      "11 из 32\n",
      "=== 97638 ===\n",
      "12 из 32\n",
      "=== 97642 ===\n",
      "13 из 32\n",
      "=== 97675 ===\n",
      "14 из 32\n",
      "=== 97717 ===\n",
      "15 из 32\n",
      "=== 97742 ===\n",
      "16 из 32\n",
      "=== 97743 ===\n",
      "17 из 32\n",
      "=== 97753 ===\n",
      "18 из 32\n",
      "=== 97762 ===\n",
      "19 из 32\n",
      "=== 97773 ===\n",
      "20 из 32\n",
      "=== 97782 ===\n",
      "21 из 32\n",
      "=== 86896 ===\n",
      "22 из 32\n",
      "=== 97786 ===\n",
      "23 из 32\n",
      "=== 97793 ===\n",
      "24 из 32\n",
      "=== 97795 ===\n",
      "25 из 32\n",
      "=== 97796 ===\n",
      "26 из 32\n",
      "=== 86526 ===\n",
      "27 из 32\n",
      "=== 97798 ===\n",
      "28 из 32\n",
      "=== 97799 ===\n",
      "29 из 32\n",
      "=== 97800 ===\n",
      "30 из 32\n",
      "=== 97801 ===\n",
      "31 из 32\n",
      "=== 97802 ===\n",
      "32 из 32\n",
      "=== 97803 ===\n"
     ]
    },
    {
     "data": {
      "text/plain": [
       "[]"
      ]
     },
     "execution_count": 7,
     "metadata": {},
     "output_type": "execute_result"
    }
   ],
   "source": [
    "import new_ias_main_function as ias\n",
    "#Функция отправки списка мероприятий на комиссию\n",
    "ias.commission_application(2025, df, '2.1')"
   ]
  },
  {
   "cell_type": "code",
   "execution_count": 8,
   "metadata": {},
   "outputs": [],
   "source": [
    "df = (df[df['Реестр №'] < 0])\n",
    "df.to_excel(file_name, index=False)"
   ]
  },
  {
   "cell_type": "code",
   "execution_count": null,
   "metadata": {},
   "outputs": [],
   "source": []
  }
 ],
 "metadata": {
  "kernelspec": {
   "display_name": "Python 3 (ipykernel)",
   "language": "python",
   "name": "python3"
  },
  "language_info": {
   "codemirror_mode": {
    "name": "ipython",
    "version": 3
   },
   "file_extension": ".py",
   "mimetype": "text/x-python",
   "name": "python",
   "nbconvert_exporter": "python",
   "pygments_lexer": "ipython3",
   "version": "3.12.7"
  }
 },
 "nbformat": 4,
 "nbformat_minor": 4
}
