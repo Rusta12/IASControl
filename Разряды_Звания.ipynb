{
 "cells": [
  {
   "cell_type": "code",
   "execution_count": 1,
   "id": "d8cccbbb-e6d8-49e2-8719-38c61d63dd10",
   "metadata": {},
   "outputs": [],
   "source": [
    "import pandas as pd"
   ]
  },
  {
   "cell_type": "code",
   "execution_count": 2,
   "id": "1fca0be4-3960-49ba-9021-5df63cea161d",
   "metadata": {},
   "outputs": [],
   "source": [
    "from reports.loader_report_rank import CalendarRankSport"
   ]
  },
  {
   "cell_type": "code",
   "execution_count": 3,
   "id": "3d46df36-3614-4e11-9fd2-be3000a080be",
   "metadata": {},
   "outputs": [],
   "source": [
    "month=5\n",
    "day=1\n",
    "year=2025\n",
    "\n",
    "dep = 'Москомспорт'\n",
    "#dep = None"
   ]
  },
  {
   "cell_type": "code",
   "execution_count": 4,
   "id": "593a229c-7fbb-48df-acaf-45b33bd7cfa5",
   "metadata": {},
   "outputs": [
    {
     "name": "stdout",
     "output_type": "stream",
     "text": [
      "Выставленна дата: 01.05.2025 0:00:00\n",
      "Кнопка 'Просмотр отчета' была нажата!\n",
      "Произошла ошибка в функции ведомтсво Message: \n",
      "\n",
      "Попытка 1/5 не удалась: Message: \n",
      "\n",
      "Произошла ошибка в функции ведомтсво Message: \n",
      "\n",
      "Попытка 2/5 не удалась: Message: \n",
      "\n",
      "Выставлено ведомство: Москомспорт\n",
      "Кнопка 'Просмотр отчета' была нажата!\n",
      "Запуск загрузки отчёта...\n",
      "Попытка 1/5 не удалась: Message: \n",
      "\n",
      "Начата загрузка CSV-файла...\n",
      "Завершение работы браузера...\n",
      "Готово!\n",
      "Файл сохранён: C:/DataIAS/CalendarRankSport/RankSport_103 969_05-2025.csv\n"
     ]
    }
   ],
   "source": [
    "CalendarRankSport(day, month, year, dep)"
   ]
  }
 ],
 "metadata": {
  "kernelspec": {
   "display_name": "Python [conda env:base] *",
   "language": "python",
   "name": "conda-base-py"
  },
  "language_info": {
   "codemirror_mode": {
    "name": "ipython",
    "version": 3
   },
   "file_extension": ".py",
   "mimetype": "text/x-python",
   "name": "python",
   "nbconvert_exporter": "python",
   "pygments_lexer": "ipython3",
   "version": "3.12.7"
  }
 },
 "nbformat": 4,
 "nbformat_minor": 5
}
