{
 "cells": [
  {
   "cell_type": "markdown",
   "metadata": {},
   "source": [
    "## Перед началом работы\n",
    "### Установить ChromeDriver Stable"
   ]
  },
  {
   "cell_type": "code",
   "execution_count": 3,
   "metadata": {},
   "outputs": [
    {
     "data": {
      "text/plain": [
       "True"
      ]
     },
     "execution_count": 3,
     "metadata": {},
     "output_type": "execute_result"
    }
   ],
   "source": [
    "url = 'https://googlechromelabs.github.io/chrome-for-testing/'\n",
    "\n",
    "import webbrowser\n",
    "webbrowser.open(url)"
   ]
  },
  {
   "cell_type": "markdown",
   "metadata": {},
   "source": [
    "### Настройка файлов для работы"
   ]
  },
  {
   "cell_type": "code",
   "execution_count": 1,
   "metadata": {},
   "outputs": [
    {
     "name": "stdout",
     "output_type": "stream",
     "text": [
      "Файл Список спортмероприятий (изменения).xlsx отсутствует, создаём...\n",
      "Файл Список спортмероприятий (исключение).xlsx уже существует.\n",
      "Файл Список спортмероприятий (исправления).xlsx уже существует.\n",
      "Файл Список спортмероприятий (на комиссию).xlsx отсутствует, создаём...\n",
      "Файл Список спортмероприятий (отклонение).xlsx уже существует.\n",
      "Открыт проводник с файлами.\n"
     ]
    }
   ],
   "source": [
    "from settings.file_settings import create_missing_files, create_folders_from_lists\n",
    "\n",
    "folder_path = r'C:\\DataIAS'\n",
    "\n",
    "create_missing_files(folder_path)\n",
    "create_folders_from_lists(folder_path)"
   ]
  },
  {
   "cell_type": "markdown",
   "metadata": {},
   "source": [
    "### Указываем в таблицах реестровые номера и запускаем необходимые файлы для работы\n",
    "\n",
    "- Заявки на изменение.ipynb\n",
    "- Заявки на исключение.ipynb\n",
    "- Заявки на комиссию.ipynb\n",
    "- Заявки на отклонение.ipynb\n",
    "- Заявки на утверждение.ipynb\n",
    "- Заявки на участие.ipynb"
   ]
  }
 ],
 "metadata": {
  "kernelspec": {
   "display_name": "Python 3 (ipykernel)",
   "language": "python",
   "name": "python3"
  },
  "language_info": {
   "codemirror_mode": {
    "name": "ipython",
    "version": 3
   },
   "file_extension": ".py",
   "mimetype": "text/x-python",
   "name": "python",
   "nbconvert_exporter": "python",
   "pygments_lexer": "ipython3",
   "version": "3.12.7"
  }
 },
 "nbformat": 4,
 "nbformat_minor": 4
}
