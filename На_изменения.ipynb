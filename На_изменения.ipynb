{
 "cells": [
  {
   "cell_type": "code",
   "execution_count": 1,
   "metadata": {},
   "outputs": [],
   "source": [
    "import pandas as pd\n",
    "import numpy as np\n",
    "import os\n",
    "import re"
   ]
  },
  {
   "cell_type": "code",
   "execution_count": 2,
   "metadata": {},
   "outputs": [],
   "source": [
    "from validators.new_ias_report_ai import save_file_DataIAS\n",
    "import new_ias_main_function as ias"
   ]
  },
  {
   "cell_type": "markdown",
   "metadata": {},
   "source": [
    "### Исправления"
   ]
  },
  {
   "cell_type": "code",
   "execution_count": 4,
   "metadata": {},
   "outputs": [],
   "source": [
    "file_name = r\"C:/DataIAS/Список спортмероприятий (исправления).xlsx\""
   ]
  },
  {
   "cell_type": "code",
   "execution_count": 5,
   "metadata": {},
   "outputs": [],
   "source": [
    "xls = pd.ExcelFile(file_name)\n",
    "df = pd.read_excel(xls, 'Sheet1')"
   ]
  },
  {
   "cell_type": "code",
   "execution_count": 6,
   "metadata": {
    "scrolled": true
   },
   "outputs": [
    {
     "ename": "InvalidSessionIdException",
     "evalue": "Message: invalid session id: session deleted as the browser has closed the connection\nfrom disconnected: unable to send message to renderer\n  (Session info: chrome=135.0.7049.115)\nStacktrace:\n\tGetHandleVerifier [0x00007FF63E7A1F55+78133]\n\tGetHandleVerifier [0x00007FF63E7A1FB0+78224]\n\t(No symbol) [0x00007FF63E5691BA]\n\t(No symbol) [0x00007FF63E555541]\n\t(No symbol) [0x00007FF63E5554AC]\n\t(No symbol) [0x00007FF63E553D0D]\n\t(No symbol) [0x00007FF63E55492F]\n\t(No symbol) [0x00007FF63E56E631]\n\t(No symbol) [0x00007FF63E56F127]\n\t(No symbol) [0x00007FF63E573B3C]\n\t(No symbol) [0x00007FF63E573C0F]\n\t(No symbol) [0x00007FF63E5BEA47]\n\t(No symbol) [0x00007FF63E5BF44C]\n\t(No symbol) [0x00007FF63E6123D7]\n\t(No symbol) [0x00007FF63E5E719F]\n\t(No symbol) [0x00007FF63E60F21F]\n\t(No symbol) [0x00007FF63E5E6F33]\n\t(No symbol) [0x00007FF63E5B0358]\n\t(No symbol) [0x00007FF63E5B10C3]\n\tGetHandleVerifier [0x00007FF63EA6BA8D+3001453]\n\tGetHandleVerifier [0x00007FF63EA65E72+2977874]\n\tGetHandleVerifier [0x00007FF63EA8497D+3103581]\n\tGetHandleVerifier [0x00007FF63E7BC7EA+186826]\n\tGetHandleVerifier [0x00007FF63E7C43FF+218591]\n\tGetHandleVerifier [0x00007FF63E7A9D94+110452]\n\tGetHandleVerifier [0x00007FF63E7A9F42+110882]\n\tGetHandleVerifier [0x00007FF63E790379+5465]\n\tBaseThreadInitThunk [0x00007FFE52467034+20]\n\tRtlUserThreadStart [0x00007FFE53EE2651+33]\n",
     "output_type": "error",
     "traceback": [
      "\u001b[1;31m---------------------------------------------------------------------------\u001b[0m",
      "\u001b[1;31mInvalidSessionIdException\u001b[0m                 Traceback (most recent call last)",
      "Cell \u001b[1;32mIn[6], line 2\u001b[0m\n\u001b[0;32m      1\u001b[0m \u001b[38;5;66;03m#2.5.4. Круглосуточное пребывание\u001b[39;00m\n\u001b[1;32m----> 2\u001b[0m ias\u001b[38;5;241m.\u001b[39mfix_approve(\u001b[38;5;241m2024\u001b[39m, df, \u001b[38;5;124m'\u001b[39m\u001b[38;5;124m2.1.1. Круглосуточное пребывание\u001b[39m\u001b[38;5;124m'\u001b[39m)\n",
      "File \u001b[1;32m~\\DevConda\\IASControl\\new_ias_main_function.py:91\u001b[0m, in \u001b[0;36mfix_approve\u001b[1;34m(name_period, df, name_agree)\u001b[0m\n\u001b[0;32m     89\u001b[0m \u001b[38;5;28;01mdef\u001b[39;00m \u001b[38;5;21mfix_approve\u001b[39m(name_period: \u001b[38;5;28mint\u001b[39m, df, name_agree:\u001b[38;5;28mstr\u001b[39m):\n\u001b[0;32m     90\u001b[0m    \u001b[38;5;66;03m#========= Вход\u001b[39;00m\n\u001b[1;32m---> 91\u001b[0m    ias\u001b[38;5;241m.\u001b[39mcome_application(login_a, pass_a)\n\u001b[0;32m     92\u001b[0m    \u001b[38;5;66;03m#======== Чистка фильтров\u001b[39;00m\n\u001b[0;32m     93\u001b[0m    ias\u001b[38;5;241m.\u001b[39mclear_filters(\u001b[38;5;124m'\u001b[39m\u001b[38;5;124mмероприятия\u001b[39m\u001b[38;5;124m'\u001b[39m)\n",
      "File \u001b[1;32m~\\DevConda\\IASControl\\new_ias_basic_function.py:21\u001b[0m, in \u001b[0;36mcome_application\u001b[1;34m(name, pass_name)\u001b[0m\n\u001b[0;32m     19\u001b[0m pas \u001b[38;5;241m=\u001b[39m driver\u001b[38;5;241m.\u001b[39mfind_element(By\u001b[38;5;241m.\u001b[39mXPATH, \u001b[38;5;124m\"\u001b[39m\u001b[38;5;124m//input[@id=\u001b[39m\u001b[38;5;124m'\u001b[39m\u001b[38;5;124mPassword\u001b[39m\u001b[38;5;124m'\u001b[39m\u001b[38;5;124m]\u001b[39m\u001b[38;5;124m\"\u001b[39m)\n\u001b[0;32m     20\u001b[0m pas\u001b[38;5;241m.\u001b[39msend_keys(pass_name, Keys\u001b[38;5;241m.\u001b[39mRETURN)\n\u001b[1;32m---> 21\u001b[0m competition \u001b[38;5;241m=\u001b[39m driver\u001b[38;5;241m.\u001b[39mfind_element(By\u001b[38;5;241m.\u001b[39mXPATH, \u001b[38;5;124m\"\u001b[39m\u001b[38;5;124m//a[contains(text(),\u001b[39m\u001b[38;5;124m'\u001b[39m\u001b[38;5;124mРеестр мероприятий\u001b[39m\u001b[38;5;124m'\u001b[39m\u001b[38;5;124m)]\u001b[39m\u001b[38;5;124m\"\u001b[39m)\n\u001b[0;32m     22\u001b[0m competition\u001b[38;5;241m.\u001b[39msend_keys(Keys\u001b[38;5;241m.\u001b[39mENTER)\n\u001b[0;32m     23\u001b[0m time\u001b[38;5;241m.\u001b[39msleep(\u001b[38;5;241m1\u001b[39m)\n",
      "File \u001b[1;32m~\\AppData\\Local\\anaconda3\\Lib\\site-packages\\selenium\\webdriver\\remote\\webdriver.py:748\u001b[0m, in \u001b[0;36mWebDriver.find_element\u001b[1;34m(self, by, value)\u001b[0m\n\u001b[0;32m    745\u001b[0m     by \u001b[38;5;241m=\u001b[39m By\u001b[38;5;241m.\u001b[39mCSS_SELECTOR\n\u001b[0;32m    746\u001b[0m     value \u001b[38;5;241m=\u001b[39m \u001b[38;5;124mf\u001b[39m\u001b[38;5;124m'\u001b[39m\u001b[38;5;124m[name=\u001b[39m\u001b[38;5;124m\"\u001b[39m\u001b[38;5;132;01m{\u001b[39;00mvalue\u001b[38;5;132;01m}\u001b[39;00m\u001b[38;5;124m\"\u001b[39m\u001b[38;5;124m]\u001b[39m\u001b[38;5;124m'\u001b[39m\n\u001b[1;32m--> 748\u001b[0m \u001b[38;5;28;01mreturn\u001b[39;00m \u001b[38;5;28mself\u001b[39m\u001b[38;5;241m.\u001b[39mexecute(Command\u001b[38;5;241m.\u001b[39mFIND_ELEMENT, {\u001b[38;5;124m\"\u001b[39m\u001b[38;5;124musing\u001b[39m\u001b[38;5;124m\"\u001b[39m: by, \u001b[38;5;124m\"\u001b[39m\u001b[38;5;124mvalue\u001b[39m\u001b[38;5;124m\"\u001b[39m: value})[\u001b[38;5;124m\"\u001b[39m\u001b[38;5;124mvalue\u001b[39m\u001b[38;5;124m\"\u001b[39m]\n",
      "File \u001b[1;32m~\\AppData\\Local\\anaconda3\\Lib\\site-packages\\selenium\\webdriver\\remote\\webdriver.py:354\u001b[0m, in \u001b[0;36mWebDriver.execute\u001b[1;34m(self, driver_command, params)\u001b[0m\n\u001b[0;32m    352\u001b[0m response \u001b[38;5;241m=\u001b[39m \u001b[38;5;28mself\u001b[39m\u001b[38;5;241m.\u001b[39mcommand_executor\u001b[38;5;241m.\u001b[39mexecute(driver_command, params)\n\u001b[0;32m    353\u001b[0m \u001b[38;5;28;01mif\u001b[39;00m response:\n\u001b[1;32m--> 354\u001b[0m     \u001b[38;5;28mself\u001b[39m\u001b[38;5;241m.\u001b[39merror_handler\u001b[38;5;241m.\u001b[39mcheck_response(response)\n\u001b[0;32m    355\u001b[0m     response[\u001b[38;5;124m\"\u001b[39m\u001b[38;5;124mvalue\u001b[39m\u001b[38;5;124m\"\u001b[39m] \u001b[38;5;241m=\u001b[39m \u001b[38;5;28mself\u001b[39m\u001b[38;5;241m.\u001b[39m_unwrap_value(response\u001b[38;5;241m.\u001b[39mget(\u001b[38;5;124m\"\u001b[39m\u001b[38;5;124mvalue\u001b[39m\u001b[38;5;124m\"\u001b[39m, \u001b[38;5;28;01mNone\u001b[39;00m))\n\u001b[0;32m    356\u001b[0m     \u001b[38;5;28;01mreturn\u001b[39;00m response\n",
      "File \u001b[1;32m~\\AppData\\Local\\anaconda3\\Lib\\site-packages\\selenium\\webdriver\\remote\\errorhandler.py:229\u001b[0m, in \u001b[0;36mErrorHandler.check_response\u001b[1;34m(self, response)\u001b[0m\n\u001b[0;32m    227\u001b[0m         alert_text \u001b[38;5;241m=\u001b[39m value[\u001b[38;5;124m\"\u001b[39m\u001b[38;5;124malert\u001b[39m\u001b[38;5;124m\"\u001b[39m]\u001b[38;5;241m.\u001b[39mget(\u001b[38;5;124m\"\u001b[39m\u001b[38;5;124mtext\u001b[39m\u001b[38;5;124m\"\u001b[39m)\n\u001b[0;32m    228\u001b[0m     \u001b[38;5;28;01mraise\u001b[39;00m exception_class(message, screen, stacktrace, alert_text)  \u001b[38;5;66;03m# type: ignore[call-arg]  # mypy is not smart enough here\u001b[39;00m\n\u001b[1;32m--> 229\u001b[0m \u001b[38;5;28;01mraise\u001b[39;00m exception_class(message, screen, stacktrace)\n",
      "\u001b[1;31mInvalidSessionIdException\u001b[0m: Message: invalid session id: session deleted as the browser has closed the connection\nfrom disconnected: unable to send message to renderer\n  (Session info: chrome=135.0.7049.115)\nStacktrace:\n\tGetHandleVerifier [0x00007FF63E7A1F55+78133]\n\tGetHandleVerifier [0x00007FF63E7A1FB0+78224]\n\t(No symbol) [0x00007FF63E5691BA]\n\t(No symbol) [0x00007FF63E555541]\n\t(No symbol) [0x00007FF63E5554AC]\n\t(No symbol) [0x00007FF63E553D0D]\n\t(No symbol) [0x00007FF63E55492F]\n\t(No symbol) [0x00007FF63E56E631]\n\t(No symbol) [0x00007FF63E56F127]\n\t(No symbol) [0x00007FF63E573B3C]\n\t(No symbol) [0x00007FF63E573C0F]\n\t(No symbol) [0x00007FF63E5BEA47]\n\t(No symbol) [0x00007FF63E5BF44C]\n\t(No symbol) [0x00007FF63E6123D7]\n\t(No symbol) [0x00007FF63E5E719F]\n\t(No symbol) [0x00007FF63E60F21F]\n\t(No symbol) [0x00007FF63E5E6F33]\n\t(No symbol) [0x00007FF63E5B0358]\n\t(No symbol) [0x00007FF63E5B10C3]\n\tGetHandleVerifier [0x00007FF63EA6BA8D+3001453]\n\tGetHandleVerifier [0x00007FF63EA65E72+2977874]\n\tGetHandleVerifier [0x00007FF63EA8497D+3103581]\n\tGetHandleVerifier [0x00007FF63E7BC7EA+186826]\n\tGetHandleVerifier [0x00007FF63E7C43FF+218591]\n\tGetHandleVerifier [0x00007FF63E7A9D94+110452]\n\tGetHandleVerifier [0x00007FF63E7A9F42+110882]\n\tGetHandleVerifier [0x00007FF63E790379+5465]\n\tBaseThreadInitThunk [0x00007FFE52467034+20]\n\tRtlUserThreadStart [0x00007FFE53EE2651+33]\n"
     ]
    }
   ],
   "source": [
    "#2.5.4. Круглосуточное пребывание\n",
    "ias.fix_approve(2024, df, '2.1.1. Круглосуточное пребывание')\n"
   ]
  },
  {
   "cell_type": "code",
   "execution_count": null,
   "metadata": {},
   "outputs": [],
   "source": [
    "df = (df[df['Реестр №'] < 0])\n",
    "df.to_excel(file_name, index=False)"
   ]
  }
 ],
 "metadata": {
  "kernelspec": {
   "display_name": "Python 3 (ipykernel)",
   "language": "python",
   "name": "python3"
  },
  "language_info": {
   "codemirror_mode": {
    "name": "ipython",
    "version": 3
   },
   "file_extension": ".py",
   "mimetype": "text/x-python",
   "name": "python",
   "nbconvert_exporter": "python",
   "pygments_lexer": "ipython3",
   "version": "3.12.7"
  }
 },
 "nbformat": 4,
 "nbformat_minor": 4
}
