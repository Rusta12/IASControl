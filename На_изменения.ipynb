{
 "cells": [
  {
   "cell_type": "code",
   "execution_count": 1,
   "metadata": {},
   "outputs": [],
   "source": [
    "import pandas as pd\n",
    "import numpy as np\n",
    "import os\n",
    "import re"
   ]
  },
  {
   "cell_type": "code",
   "execution_count": 2,
   "metadata": {},
   "outputs": [],
   "source": [
    "from validators.new_ias_report_ai import save_file_DataIAS\n",
    "import new_ias_main_function as ias"
   ]
  },
  {
   "cell_type": "markdown",
   "metadata": {},
   "source": [
    "### Исправления"
   ]
  },
  {
   "cell_type": "code",
   "execution_count": 3,
   "metadata": {},
   "outputs": [],
   "source": [
    "file_name = r\"C:/DataIAS/Список спортмероприятий (исправления).xlsx\""
   ]
  },
  {
   "cell_type": "code",
   "execution_count": 4,
   "metadata": {},
   "outputs": [],
   "source": [
    "xls = pd.ExcelFile(file_name)\n",
    "df = pd.read_excel(xls, 'Sheet1')"
   ]
  },
  {
   "cell_type": "code",
   "execution_count": 5,
   "metadata": {
    "scrolled": true
   },
   "outputs": [
    {
     "name": "stdout",
     "output_type": "stream",
     "text": [
      "0 из 63\n",
      "=== 85207 ===\n",
      "1 из 63\n",
      "=== 85205 ===\n",
      "2 из 63\n",
      "=== 82193 ===\n",
      "3 из 63\n",
      "=== 85037 ===\n",
      "4 из 63\n",
      "=== 85069 ===\n",
      "5 из 63\n",
      "=== 85046 ===\n",
      "6 из 63\n",
      "=== 85118 ===\n",
      "7 из 63\n",
      "=== 85290 ===\n",
      "8 из 63\n",
      "=== 85378 ===\n",
      "9 из 63\n",
      "=== 85469 ===\n",
      "10 из 63\n",
      "=== 85919 ===\n",
      "11 из 63\n",
      "=== 85921 ===\n",
      "12 из 63\n",
      "=== 85924 ===\n",
      "13 из 63\n",
      "=== 85926 ===\n",
      "14 из 63\n",
      "=== 85928 ===\n",
      "15 из 63\n",
      "=== 85930 ===\n",
      "16 из 63\n",
      "=== 86016 ===\n",
      "17 из 63\n",
      "=== 86017 ===\n",
      "18 из 63\n",
      "=== 86018 ===\n",
      "19 из 63\n",
      "=== 86020 ===\n",
      "20 из 63\n",
      "=== 86023 ===\n",
      "21 из 63\n",
      "=== 86024 ===\n",
      "86024 Мероприятие не найдено\n",
      "22 из 63\n",
      "=== 86026 ===\n",
      "23 из 63\n",
      "=== 86027 ===\n",
      "24 из 63\n",
      "=== 86028 ===\n",
      "25 из 63\n",
      "=== 86029 ===\n",
      "26 из 63\n",
      "=== 86030 ===\n",
      "27 из 63\n",
      "=== 86031 ===\n",
      "28 из 63\n",
      "=== 86032 ===\n",
      "29 из 63\n",
      "=== 86033 ===\n",
      "30 из 63\n",
      "=== 86034 ===\n",
      "31 из 63\n",
      "=== 86035 ===\n",
      "32 из 63\n",
      "=== 86036 ===\n",
      "33 из 63\n",
      "=== 86037 ===\n",
      "34 из 63\n",
      "=== 86038 ===\n",
      "35 из 63\n",
      "=== 86039 ===\n",
      "36 из 63\n",
      "=== 86041 ===\n",
      "37 из 63\n",
      "=== 86042 ===\n",
      "38 из 63\n",
      "=== 86043 ===\n",
      "39 из 63\n",
      "=== 86045 ===\n",
      "40 из 63\n",
      "=== 86046 ===\n",
      "41 из 63\n",
      "=== 86047 ===\n",
      "42 из 63\n",
      "=== 86048 ===\n",
      "43 из 63\n",
      "=== 86049 ===\n",
      "44 из 63\n",
      "=== 86050 ===\n",
      "45 из 63\n",
      "=== 86051 ===\n",
      "46 из 63\n",
      "=== 86053 ===\n",
      "47 из 63\n",
      "=== 86054 ===\n",
      "48 из 63\n",
      "=== 86055 ===\n",
      "49 из 63\n",
      "=== 86056 ===\n",
      "50 из 63\n",
      "=== 86057 ===\n",
      "51 из 63\n",
      "=== 86058 ===\n",
      "52 из 63\n",
      "=== 86059 ===\n",
      "53 из 63\n",
      "=== 86060 ===\n",
      "54 из 63\n",
      "=== 86061 ===\n",
      "55 из 63\n",
      "=== 86062 ===\n",
      "56 из 63\n",
      "=== 86064 ===\n",
      "57 из 63\n",
      "=== 86065 ===\n",
      "58 из 63\n",
      "=== 86066 ===\n",
      "59 из 63\n",
      "=== 86067 ===\n",
      "60 из 63\n",
      "=== 86069 ===\n",
      "61 из 63\n",
      "=== 86070 ===\n",
      "62 из 63\n",
      "=== 86072 ===\n",
      "63 из 63\n",
      "=== 86408 ===\n"
     ]
    },
    {
     "data": {
      "text/plain": [
       "[86024]"
      ]
     },
     "execution_count": 5,
     "metadata": {},
     "output_type": "execute_result"
    }
   ],
   "source": [
    "#2.5.4. Круглосуточное пребывание\n",
    "ias.fix_approve(2024, df, '2.1.1. Круглосуточное пребывание')\n"
   ]
  },
  {
   "cell_type": "code",
   "execution_count": 6,
   "metadata": {},
   "outputs": [],
   "source": [
    "df = (df[df['Реестр №'] < 0])\n",
    "df.to_excel(file_name, index=False)"
   ]
  }
 ],
 "metadata": {
  "kernelspec": {
   "display_name": "Python 3",
   "language": "python",
   "name": "python3"
  },
  "language_info": {
   "codemirror_mode": {
    "name": "ipython",
    "version": 3
   },
   "file_extension": ".py",
   "mimetype": "text/x-python",
   "name": "python",
   "nbconvert_exporter": "python",
   "pygments_lexer": "ipython3",
   "version": "3.8.5"
  }
 },
 "nbformat": 4,
 "nbformat_minor": 4
}
