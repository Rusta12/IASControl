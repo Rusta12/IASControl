{
 "cells": [
  {
   "cell_type": "code",
   "execution_count": 1,
   "metadata": {},
   "outputs": [],
   "source": [
    "import pandas as pd\n",
    "import numpy as np\n",
    "import os\n",
    "import re"
   ]
  },
  {
   "cell_type": "code",
   "execution_count": 2,
   "metadata": {},
   "outputs": [],
   "source": [
    "from validators.new_ias_report_ai import save_file_DataIAS\n",
    "import new_ias_main_function as ias"
   ]
  },
  {
   "cell_type": "markdown",
   "metadata": {},
   "source": [
    "### Изменения"
   ]
  },
  {
   "cell_type": "code",
   "execution_count": 4,
   "metadata": {},
   "outputs": [
    {
     "name": "stdout",
     "output_type": "stream",
     "text": [
      "Файл обновлен - C:/DataIAS/Список спортмероприятий IASControl.xlsx\n",
      "Общая проверка по отвественным успешно пройдена!\n",
      "Общая проверка по триггерам успешно пройдена!\n",
      "Общая проверка по Статусу успешно пройдена!\n",
      "Общая проверка по Виду спорта успешно пройдена!\n",
      "Все проверки пройдены\n",
      "Файл обновлен -  C:/DataIAS/Список спортмероприятий (внесение изменений).xlsx\n"
     ]
    }
   ],
   "source": [
    "#Валидация\n",
    "save_file_DataIAS('внесение изменений')"
   ]
  },
  {
   "cell_type": "code",
   "execution_count": 5,
   "metadata": {},
   "outputs": [],
   "source": [
    "file_name = r\"C:/DataIAS/Список спортмероприятий (внесение изменений).xlsx\""
   ]
  },
  {
   "cell_type": "code",
   "execution_count": 6,
   "metadata": {},
   "outputs": [],
   "source": [
    "xls = pd.ExcelFile(file_name)\n",
    "df = pd.read_excel(xls, 'Sheet1')\n",
    "df['IASControl'] = ''"
   ]
  },
  {
   "cell_type": "code",
   "execution_count": 7,
   "metadata": {},
   "outputs": [
    {
     "name": "stdout",
     "output_type": "stream",
     "text": [
      "0 из 18\n",
      "=== 38566 ===\n",
      "1 из 18\n",
      "=== 38579 ===\n",
      "2 из 18\n",
      "=== 3727 ===\n",
      "3 из 18\n",
      "=== 3728 ===\n",
      "4 из 18\n",
      "=== 77589 ===\n",
      "5 из 18\n",
      "=== 75609 ===\n",
      "6 из 18\n",
      "=== 38536 ===\n",
      "7 из 18\n",
      "=== 75606 ===\n",
      "8 из 18\n",
      "=== 79654 ===\n",
      "9 из 18\n",
      "=== 1351 ===\n",
      "10 из 18\n",
      "=== 91997 ===\n",
      "11 из 18\n",
      "=== 85799 ===\n",
      "12 из 18\n",
      "=== 70218 ===\n",
      "13 из 18\n",
      "=== 53417 ===\n",
      "14 из 18\n",
      "=== 1035 ===\n",
      "15 из 18\n",
      "=== 53420 ===\n",
      "16 из 18\n",
      "=== 1067 ===\n",
      "17 из 18\n",
      "=== 63610 ===\n",
      "18 из 18\n",
      "=== 72419 ===\n"
     ]
    },
    {
     "data": {
      "text/plain": [
       "[]"
      ]
     },
     "execution_count": 7,
     "metadata": {},
     "output_type": "execute_result"
    }
   ],
   "source": [
    "ias.change_approve(2025, df)"
   ]
  },
  {
   "cell_type": "markdown",
   "metadata": {},
   "source": [
    "### Очистить список до номера\n",
    "idx = df.index[df['Реестр №'] == 1613][0]\n",
    "new_df = df.iloc[idx+1:]\n",
    "new_df.to_excel(file_name, index=False)\n",
    "new_df"
   ]
  },
  {
   "cell_type": "code",
   "execution_count": 9,
   "metadata": {},
   "outputs": [],
   "source": [
    "df = (df[df['Реестр №'] < 0])\n",
    "df.to_excel(file_name, index=False)"
   ]
  },
  {
   "cell_type": "code",
   "execution_count": null,
   "metadata": {},
   "outputs": [],
   "source": []
  }
 ],
 "metadata": {
  "kernelspec": {
   "display_name": "Python [conda env:base] *",
   "language": "python",
   "name": "conda-base-py"
  },
  "language_info": {
   "codemirror_mode": {
    "name": "ipython",
    "version": 3
   },
   "file_extension": ".py",
   "mimetype": "text/x-python",
   "name": "python",
   "nbconvert_exporter": "python",
   "pygments_lexer": "ipython3",
   "version": "3.12.7"
  }
 },
 "nbformat": 4,
 "nbformat_minor": 4
}
