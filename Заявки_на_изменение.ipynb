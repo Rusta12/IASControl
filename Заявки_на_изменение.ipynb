{
 "cells": [
  {
   "cell_type": "code",
   "execution_count": 1,
   "metadata": {},
   "outputs": [],
   "source": [
    "import pandas as pd\n",
    "import numpy as np\n",
    "import os\n",
    "import re"
   ]
  },
  {
   "cell_type": "code",
   "execution_count": 2,
   "metadata": {},
   "outputs": [],
   "source": [
    "from validators.new_ias_report_ai import save_file_DataIAS\n",
    "import new_ias_main_function as ias"
   ]
  },
  {
   "cell_type": "markdown",
   "metadata": {},
   "source": [
    "### Изменения"
   ]
  },
  {
   "cell_type": "code",
   "execution_count": 3,
   "metadata": {
    "scrolled": true
   },
   "outputs": [],
   "source": [
    "#Валидация\n",
    "save_file_DataIAS('изменения')"
   ]
  },
  {
   "cell_type": "code",
   "execution_count": 4,
   "metadata": {},
   "outputs": [],
   "source": [
    "file_name = r\"C:/DataIAS/Список спортмероприятий (изменения).xlsx\""
   ]
  },
  {
   "cell_type": "code",
   "execution_count": 5,
   "metadata": {},
   "outputs": [],
   "source": [
    "xls = pd.ExcelFile(file_name)\n",
    "df = pd.read_excel(xls, 'Sheet1')\n",
    "df['IASControl'] = ''"
   ]
  },
  {
   "cell_type": "code",
   "execution_count": 6,
   "metadata": {
    "scrolled": true
   },
   "outputs": [
    {
     "name": "stdout",
     "output_type": "stream",
     "text": [
      "0 из 81\n",
      "=== 62125 ===\n",
      "1 из 81\n",
      "=== 88395 ===\n",
      "2 из 81\n",
      "=== 81716 ===\n",
      "3 из 81\n",
      "=== 88108 ===\n",
      "4 из 81\n",
      "=== 86183 ===\n",
      "5 из 81\n",
      "=== 78194 ===\n",
      "6 из 81\n",
      "=== 88125 ===\n",
      "7 из 81\n",
      "=== 88109 ===\n",
      "8 из 81\n",
      "=== 4287 ===\n",
      "9 из 81\n",
      "=== 5076 ===\n",
      "10 из 81\n",
      "=== 84383 ===\n",
      "11 из 81\n",
      "=== 25426 ===\n",
      "12 из 81\n",
      "=== 81077 ===\n",
      "13 из 81\n",
      "=== 81381 ===\n",
      "14 из 81\n",
      "=== 88380 ===\n",
      "15 из 81\n",
      "=== 68968 ===\n",
      "16 из 81\n",
      "=== 88254 ===\n",
      "17 из 81\n",
      "=== 88119 ===\n",
      "18 из 81\n",
      "=== 89028 ===\n",
      "19 из 81\n",
      "=== 82241 ===\n",
      "20 из 81\n",
      "=== 39000 ===\n",
      "21 из 81\n",
      "=== 768 ===\n",
      "22 из 81\n",
      "=== 78874 ===\n",
      "23 из 81\n",
      "=== 62845 ===\n",
      "24 из 81\n",
      "=== 72722 ===\n",
      "25 из 81\n",
      "=== 81560 ===\n",
      "26 из 81\n",
      "=== 3730 ===\n",
      "27 из 81\n",
      "=== 87666 ===\n",
      "28 из 81\n",
      "=== 73849 ===\n",
      "29 из 81\n",
      "=== 70705 ===\n",
      "30 из 81\n",
      "=== 69368 ===\n",
      "31 из 81\n",
      "=== 57565 ===\n",
      "32 из 81\n",
      "=== 56960 ===\n",
      "33 из 81\n",
      "=== 89148 ===\n",
      "34 из 81\n",
      "=== 88555 ===\n",
      "35 из 81\n",
      "=== 87716 ===\n",
      "36 из 81\n",
      "=== 79848 ===\n",
      "37 из 81\n",
      "=== 3587 ===\n",
      "38 из 81\n",
      "=== 72564 ===\n",
      "39 из 81\n",
      "=== 81717 ===\n",
      "40 из 81\n",
      "=== 79514 ===\n",
      "41 из 81\n",
      "=== 1248 ===\n",
      "42 из 81\n",
      "=== 82125 ===\n",
      "43 из 81\n",
      "=== 68351 ===\n",
      "44 из 81\n",
      "=== 79861 ===\n",
      "45 из 81\n",
      "=== 61586 ===\n",
      "46 из 81\n",
      "=== 67726 ===\n",
      "47 из 81\n",
      "=== 13243 ===\n",
      "48 из 81\n",
      "=== 89150 ===\n",
      "49 из 81\n",
      "=== 53773 ===\n",
      "50 из 81\n",
      "=== 87875 ===\n",
      "51 из 81\n",
      "=== 19992 ===\n",
      "52 из 81\n",
      "=== 25454 ===\n",
      "53 из 81\n",
      "=== 1378 ===\n",
      "54 из 81\n",
      "=== 81516 ===\n",
      "55 из 81\n",
      "=== 81882 ===\n",
      "56 из 81\n",
      "=== 4119 ===\n",
      "57 из 81\n",
      "=== 81555 ===\n",
      "58 из 81\n",
      "=== 81532 ===\n",
      "59 из 81\n",
      "=== 1255 ===\n",
      "60 из 81\n",
      "=== 81558 ===\n",
      "61 из 81\n",
      "=== 81520 ===\n",
      "62 из 81\n",
      "=== 81521 ===\n",
      "63 из 81\n",
      "=== 78572 ===\n",
      "64 из 81\n",
      "=== 81718 ===\n",
      "81718 Мероприятие не найдено\n",
      "65 из 81\n",
      "=== 78997 ===\n",
      "66 из 81\n",
      "=== 53882 ===\n",
      "67 из 81\n",
      "=== 39211 ===\n",
      "68 из 81\n",
      "=== 3582 ===\n",
      "69 из 81\n",
      "=== 81530 ===\n",
      "70 из 81\n",
      "=== 81551 ===\n",
      "71 из 81\n",
      "=== 81546 ===\n",
      "72 из 81\n",
      "=== 1281 ===\n",
      "73 из 81\n",
      "=== 24859 ===\n",
      "74 из 81\n",
      "=== 87720 ===\n",
      "75 из 81\n",
      "=== 82254 ===\n",
      "76 из 81\n",
      "=== 82256 ===\n",
      "77 из 81\n",
      "=== 77445 ===\n",
      "78 из 81\n",
      "=== 38206 ===\n",
      "79 из 81\n",
      "=== 55109 ===\n",
      "80 из 81\n",
      "=== 88342 ===\n",
      "81 из 81\n",
      "=== 89783 ===\n"
     ]
    },
    {
     "data": {
      "text/plain": [
       "[81718]"
      ]
     },
     "execution_count": 6,
     "metadata": {},
     "output_type": "execute_result"
    }
   ],
   "source": [
    "ias.change_approve(2024, df)"
   ]
  },
  {
   "cell_type": "markdown",
   "metadata": {},
   "source": [
    "### Очистить список до номера\n",
    "idx = df.index[df['Реестр №'] == 1613][0]\n",
    "new_df = df.iloc[idx+1:]\n",
    "new_df.to_excel(file_name, index=False)\n",
    "new_df"
   ]
  },
  {
   "cell_type": "code",
   "execution_count": 7,
   "metadata": {},
   "outputs": [],
   "source": [
    "df = (df[df['Реестр №'] < 0])\n",
    "df.to_excel(file_name, index=False)"
   ]
  },
  {
   "cell_type": "code",
   "execution_count": null,
   "metadata": {},
   "outputs": [],
   "source": []
  }
 ],
 "metadata": {
  "kernelspec": {
   "display_name": "Python 3",
   "language": "python",
   "name": "python3"
  },
  "language_info": {
   "codemirror_mode": {
    "name": "ipython",
    "version": 3
   },
   "file_extension": ".py",
   "mimetype": "text/x-python",
   "name": "python",
   "nbconvert_exporter": "python",
   "pygments_lexer": "ipython3",
   "version": "3.8.5"
  }
 },
 "nbformat": 4,
 "nbformat_minor": 4
}
