{
 "cells": [
  {
   "cell_type": "code",
   "execution_count": 1,
   "metadata": {},
   "outputs": [],
   "source": [
    "import pandas as pd\n",
    "import numpy as np\n",
    "import os\n",
    "import re"
   ]
  },
  {
   "cell_type": "code",
   "execution_count": 2,
   "metadata": {},
   "outputs": [],
   "source": [
    "from validators.new_ias_report_ai import save_file_DataIAS\n",
    "import new_ias_main_function as ias"
   ]
  },
  {
   "cell_type": "markdown",
   "metadata": {},
   "source": [
    "### Изменения"
   ]
  },
  {
   "cell_type": "code",
   "execution_count": 3,
   "metadata": {},
   "outputs": [],
   "source": [
    "#Валидация\n",
    "#save_file_DataIAS('внесение изменений')"
   ]
  },
  {
   "cell_type": "code",
   "execution_count": 4,
   "metadata": {},
   "outputs": [],
   "source": [
    "file_name = r\"C:/DataIAS/Список спортмероприятий (внесение изменений).xlsx\""
   ]
  },
  {
   "cell_type": "code",
   "execution_count": 5,
   "metadata": {},
   "outputs": [],
   "source": [
    "xls = pd.ExcelFile(file_name)\n",
    "df = pd.read_excel(xls, 'Sheet1')\n",
    "df['IASControl'] = ''"
   ]
  },
  {
   "cell_type": "code",
   "execution_count": 6,
   "metadata": {},
   "outputs": [
    {
     "name": "stdout",
     "output_type": "stream",
     "text": [
      "0 из 36\n",
      "=== 81881 ===\n",
      "1 из 36\n",
      "=== 68272 ===\n",
      "2 из 36\n",
      "=== 19127 ===\n",
      "3 из 36\n",
      "=== 55561 ===\n",
      "4 из 36\n",
      "=== 94675 ===\n",
      "5 из 36\n",
      "=== 77330 ===\n",
      "6 из 36\n",
      "=== 69321 ===\n",
      "7 из 36\n",
      "=== 94792 ===\n",
      "8 из 36\n",
      "=== 2392 ===\n",
      "9 из 36\n",
      "=== 82174 ===\n",
      "10 из 36\n",
      "=== 54639 ===\n",
      "11 из 36\n",
      "=== 30135 ===\n",
      "12 из 36\n",
      "=== 15713 ===\n",
      "13 из 36\n",
      "=== 91638 ===\n",
      "14 из 36\n",
      "=== 24240 ===\n",
      "15 из 36\n",
      "=== 78960 ===\n",
      "16 из 36\n",
      "=== 75052 ===\n",
      "17 из 36\n",
      "=== 72725 ===\n",
      "18 из 36\n",
      "=== 67136 ===\n",
      "19 из 36\n",
      "=== 67899 ===\n",
      "20 из 36\n",
      "=== 71515 ===\n",
      "21 из 36\n",
      "=== 81724 ===\n",
      "22 из 36\n",
      "=== 93445 ===\n",
      "23 из 36\n",
      "=== 91240 ===\n",
      "24 из 36\n",
      "=== 81873 ===\n",
      "25 из 36\n",
      "=== 25226 ===\n",
      "26 из 36\n",
      "=== 26534 ===\n",
      "27 из 36\n",
      "=== 2394 ===\n",
      "28 из 36\n",
      "=== 62289 ===\n",
      "29 из 36\n",
      "=== 37644 ===\n",
      "30 из 36\n",
      "=== 80997 ===\n",
      "31 из 36\n",
      "=== 72380 ===\n",
      "32 из 36\n",
      "=== 30349 ===\n",
      "33 из 36\n",
      "=== 53306 ===\n",
      "34 из 36\n",
      "=== 81550 ===\n",
      "35 из 36\n",
      "=== 72727 ===\n",
      "36 из 36\n",
      "=== 81613 ===\n"
     ]
    },
    {
     "data": {
      "text/plain": [
       "[]"
      ]
     },
     "execution_count": 6,
     "metadata": {},
     "output_type": "execute_result"
    }
   ],
   "source": [
    "ias.change_approve(2025, df)"
   ]
  },
  {
   "cell_type": "markdown",
   "metadata": {},
   "source": [
    "### Очистить список до номера\n",
    "idx = df.index[df['Реестр №'] == 1613][0]\n",
    "new_df = df.iloc[idx+1:]\n",
    "new_df.to_excel(file_name, index=False)\n",
    "new_df"
   ]
  },
  {
   "cell_type": "code",
   "execution_count": 7,
   "metadata": {},
   "outputs": [],
   "source": [
    "df = (df[df['Реестр №'] < 0])\n",
    "df.to_excel(file_name, index=False)"
   ]
  },
  {
   "cell_type": "code",
   "execution_count": null,
   "metadata": {},
   "outputs": [],
   "source": []
  }
 ],
 "metadata": {
  "kernelspec": {
   "display_name": "Python 3",
   "language": "python",
   "name": "python3"
  },
  "language_info": {
   "codemirror_mode": {
    "name": "ipython",
    "version": 3
   },
   "file_extension": ".py",
   "mimetype": "text/x-python",
   "name": "python",
   "nbconvert_exporter": "python",
   "pygments_lexer": "ipython3",
   "version": "3.8.5"
  }
 },
 "nbformat": 4,
 "nbformat_minor": 4
}
