{
 "cells": [
  {
   "cell_type": "code",
   "execution_count": 1,
   "metadata": {},
   "outputs": [],
   "source": [
    "import pandas as pd\n",
    "import numpy as np\n",
    "import os\n",
    "import re"
   ]
  },
  {
   "cell_type": "code",
   "execution_count": 2,
   "metadata": {},
   "outputs": [],
   "source": [
    "from validators.new_ias_report_ai import save_file_DataIAS\n",
    "import new_ias_main_function as ias"
   ]
  },
  {
   "cell_type": "markdown",
   "metadata": {},
   "source": [
    "### Изменения"
   ]
  },
  {
   "cell_type": "code",
   "execution_count": 3,
   "metadata": {},
   "outputs": [],
   "source": [
    "file_name = r\"C:/DataIAS/Список спортмероприятий (изменения).xlsx\""
   ]
  },
  {
   "cell_type": "code",
   "execution_count": 4,
   "metadata": {},
   "outputs": [],
   "source": [
    "xls = pd.ExcelFile(file_name)\n",
    "df = pd.read_excel(xls, 'Sheet1')\n",
    "df['IASControl'] = ''"
   ]
  },
  {
   "cell_type": "code",
   "execution_count": 5,
   "metadata": {
    "scrolled": true
   },
   "outputs": [
    {
     "name": "stdout",
     "output_type": "stream",
     "text": [
      "0 из 23\n",
      "=== 89899 ===\n",
      "1 из 23\n",
      "=== 89928 ===\n",
      "2 из 23\n",
      "=== 89926 ===\n",
      "3 из 23\n",
      "=== 89925 ===\n",
      "4 из 23\n",
      "=== 89936 ===\n",
      "5 из 23\n",
      "=== 89938 ===\n",
      "6 из 23\n",
      "=== 89945 ===\n",
      "7 из 23\n",
      "=== 89901 ===\n",
      "8 из 23\n",
      "=== 89902 ===\n",
      "9 из 23\n",
      "=== 89903 ===\n",
      "10 из 23\n",
      "=== 89935 ===\n",
      "11 из 23\n",
      "=== 89940 ===\n",
      "12 из 23\n",
      "=== 89944 ===\n",
      "13 из 23\n",
      "=== 89947 ===\n",
      "14 из 23\n",
      "=== 89951 ===\n",
      "15 из 23\n",
      "=== 89954 ===\n",
      "16 из 23\n",
      "=== 89971 ===\n",
      "17 из 23\n",
      "=== 84496 ===\n",
      "18 из 23\n",
      "=== 82102 ===\n",
      "19 из 23\n",
      "=== 82044 ===\n",
      "20 из 23\n",
      "=== 82043 ===\n",
      "21 из 23\n",
      "=== 81566 ===\n",
      "22 из 23\n",
      "=== 82098 ===\n",
      "23 из 23\n",
      "=== 89802 ===\n"
     ]
    },
    {
     "data": {
      "text/plain": [
       "[]"
      ]
     },
     "execution_count": 5,
     "metadata": {},
     "output_type": "execute_result"
    }
   ],
   "source": [
    "ias.change_approve(2025, df)"
   ]
  },
  {
   "cell_type": "markdown",
   "metadata": {},
   "source": [
    "### Очистить список до номера\n",
    "idx = df.index[df['Реестр №'] == 1613][0]\n",
    "new_df = df.iloc[idx+1:]\n",
    "new_df.to_excel(file_name, index=False)\n",
    "new_df"
   ]
  },
  {
   "cell_type": "code",
   "execution_count": 6,
   "metadata": {},
   "outputs": [],
   "source": [
    "df = (df[df['Реестр №'] < 0])\n",
    "df.to_excel(file_name, index=False)"
   ]
  },
  {
   "cell_type": "code",
   "execution_count": null,
   "metadata": {},
   "outputs": [],
   "source": []
  }
 ],
 "metadata": {
  "kernelspec": {
   "display_name": "Python 3",
   "language": "python",
   "name": "python3"
  },
  "language_info": {
   "codemirror_mode": {
    "name": "ipython",
    "version": 3
   },
   "file_extension": ".py",
   "mimetype": "text/x-python",
   "name": "python",
   "nbconvert_exporter": "python",
   "pygments_lexer": "ipython3",
   "version": "3.8.5"
  }
 },
 "nbformat": 4,
 "nbformat_minor": 4
}
