{
 "cells": [
  {
   "cell_type": "code",
   "execution_count": 1,
   "metadata": {},
   "outputs": [],
   "source": [
    "import pandas as pd\n",
    "import numpy as np\n",
    "import os\n",
    "import re"
   ]
  },
  {
   "cell_type": "code",
   "execution_count": 2,
   "metadata": {},
   "outputs": [],
   "source": [
    "from validators.new_ias_report_ai import save_file_DataIAS\n",
    "import new_ias_main_function as ias"
   ]
  },
  {
   "cell_type": "code",
   "execution_count": 3,
   "metadata": {},
   "outputs": [],
   "source": [
    "#Валидация\n",
    "#save_file_DataIAS('изменения')"
   ]
  },
  {
   "cell_type": "markdown",
   "metadata": {},
   "source": [
    "### Изменения"
   ]
  },
  {
   "cell_type": "code",
   "execution_count": 4,
   "metadata": {},
   "outputs": [],
   "source": [
    "file_name = r\"C:/DataIAS/Список спортмероприятий (изменения).xlsx\""
   ]
  },
  {
   "cell_type": "code",
   "execution_count": 5,
   "metadata": {},
   "outputs": [],
   "source": [
    "xls = pd.ExcelFile(file_name)\n",
    "df = pd.read_excel(xls, 'Sheet1')\n",
    "df['IASControl'] = ''"
   ]
  },
  {
   "cell_type": "code",
   "execution_count": 6,
   "metadata": {
    "scrolled": true
   },
   "outputs": [
    {
     "name": "stdout",
     "output_type": "stream",
     "text": [
      "0 из 12\n",
      "=== 92567 ===\n",
      "1 из 12\n",
      "=== 92565 ===\n",
      "2 из 12\n",
      "=== 69300 ===\n",
      "3 из 12\n",
      "=== 68517 ===\n",
      "4 из 12\n",
      "=== 92198 ===\n",
      "5 из 12\n",
      "=== 92245 ===\n",
      "6 из 12\n",
      "=== 92726 ===\n",
      "92726 Ошибка функции\n",
      "7 из 12\n",
      "=== 19804 ===\n",
      "8 из 12\n",
      "=== 25233 ===\n",
      "9 из 12\n",
      "=== 25467 ===\n",
      "10 из 12\n",
      "=== 81411 ===\n",
      "11 из 12\n",
      "=== 88550 ===\n",
      "12 из 12\n",
      "=== 88553 ===\n"
     ]
    },
    {
     "data": {
      "text/plain": [
       "[92726]"
      ]
     },
     "execution_count": 6,
     "metadata": {},
     "output_type": "execute_result"
    }
   ],
   "source": [
    "ias.change_approve(2024, df)"
   ]
  },
  {
   "cell_type": "markdown",
   "metadata": {},
   "source": [
    "### Очистить список до номера\n",
    "idx = df.index[df['Реестр №'] == 1613][0]\n",
    "new_df = df.iloc[idx+1:]\n",
    "new_df.to_excel(file_name, index=False)\n",
    "new_df"
   ]
  },
  {
   "cell_type": "code",
   "execution_count": 7,
   "metadata": {},
   "outputs": [],
   "source": [
    "df = (df[df['Реестр №'] < 0])\n",
    "df.to_excel(file_name, index=False)"
   ]
  },
  {
   "cell_type": "code",
   "execution_count": null,
   "metadata": {},
   "outputs": [],
   "source": []
  }
 ],
 "metadata": {
  "kernelspec": {
   "display_name": "Python 3",
   "language": "python",
   "name": "python3"
  },
  "language_info": {
   "codemirror_mode": {
    "name": "ipython",
    "version": 3
   },
   "file_extension": ".py",
   "mimetype": "text/x-python",
   "name": "python",
   "nbconvert_exporter": "python",
   "pygments_lexer": "ipython3",
   "version": "3.8.5"
  }
 },
 "nbformat": 4,
 "nbformat_minor": 4
}
