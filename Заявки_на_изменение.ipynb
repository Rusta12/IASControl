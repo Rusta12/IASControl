{
 "cells": [
  {
   "cell_type": "code",
   "execution_count": 1,
   "metadata": {},
   "outputs": [],
   "source": [
    "import pandas as pd\n",
    "import numpy as np\n",
    "import os\n",
    "import re"
   ]
  },
  {
   "cell_type": "code",
   "execution_count": 2,
   "metadata": {},
   "outputs": [],
   "source": [
    "from validators.new_ias_report_ai import save_file_DataIAS\n",
    "import new_ias_main_function as ias"
   ]
  },
  {
   "cell_type": "markdown",
   "metadata": {},
   "source": [
    "### Изменения"
   ]
  },
  {
   "cell_type": "code",
   "execution_count": 3,
   "metadata": {
    "scrolled": true
   },
   "outputs": [],
   "source": [
    "#Валидация\n",
    "#save_file_DataIAS('изменения')"
   ]
  },
  {
   "cell_type": "code",
   "execution_count": 4,
   "metadata": {},
   "outputs": [],
   "source": [
    "file_name = r\"C:/DataIAS/Список спортмероприятий (изменения).xlsx\""
   ]
  },
  {
   "cell_type": "code",
   "execution_count": 5,
   "metadata": {},
   "outputs": [],
   "source": [
    "xls = pd.ExcelFile(file_name)\n",
    "df = pd.read_excel(xls, 'Sheet1')\n",
    "df['Комментарий АИ'] = ''"
   ]
  },
  {
   "cell_type": "code",
   "execution_count": 6,
   "metadata": {
    "scrolled": true
   },
   "outputs": [
    {
     "name": "stdout",
     "output_type": "stream",
     "text": [
      "0 из 30\n",
      "=== 53738 ===\n",
      "1 из 30\n",
      "=== 13262 ===\n",
      "2 из 30\n",
      "=== 15545 ===\n",
      "3 из 30\n",
      "=== 69220 ===\n",
      "4 из 30\n",
      "=== 77149 ===\n",
      "5 из 30\n",
      "=== 72376 ===\n",
      "6 из 30\n",
      "=== 81561 ===\n",
      "7 из 30\n",
      "=== 62518 ===\n",
      "8 из 30\n",
      "=== 89100 ===\n",
      "9 из 30\n",
      "=== 88341 ===\n",
      "10 из 30\n",
      "=== 82000 ===\n",
      "11 из 30\n",
      "=== 69298 ===\n",
      "12 из 30\n",
      "=== 69290 ===\n",
      "13 из 30\n",
      "=== 15839 ===\n",
      "14 из 30\n",
      "=== 13026 ===\n",
      "15 из 30\n",
      "=== 2296 ===\n",
      "16 из 30\n",
      "=== 88040 ===\n",
      "17 из 30\n",
      "=== 15158 ===\n",
      "18 из 30\n",
      "=== 13663 ===\n",
      "19 из 30\n",
      "=== 56487 ===\n",
      "20 из 30\n",
      "=== 54288 ===\n",
      "21 из 30\n",
      "=== 61552 ===\n",
      "22 из 30\n",
      "=== 85323 ===\n",
      "23 из 30\n",
      "=== 1026 ===\n",
      "24 из 30\n",
      "=== 71371 ===\n",
      "25 из 30\n",
      "=== 81808 ===\n",
      "26 из 30\n",
      "=== 84965 ===\n",
      "27 из 30\n",
      "=== 59088 ===\n",
      "28 из 30\n",
      "=== 89084 ===\n",
      "29 из 30\n",
      "=== 70044 ===\n",
      "30 из 30\n",
      "=== 85870 ===\n"
     ]
    },
    {
     "data": {
      "text/plain": [
       "[]"
      ]
     },
     "execution_count": 6,
     "metadata": {},
     "output_type": "execute_result"
    }
   ],
   "source": [
    "ias.change_approve(2024, df)"
   ]
  },
  {
   "cell_type": "markdown",
   "metadata": {},
   "source": [
    "### Очистить список до номера\n",
    "idx = df.index[df['Реестр №'] == 1613][0]\n",
    "new_df = df.iloc[idx+1:]\n",
    "new_df.to_excel(file_name, index=False)\n",
    "new_df"
   ]
  },
  {
   "cell_type": "code",
   "execution_count": 7,
   "metadata": {},
   "outputs": [],
   "source": [
    "df = (df[df['Реестр №'] < 0])\n",
    "df.to_excel(file_name, index=False)"
   ]
  },
  {
   "cell_type": "code",
   "execution_count": null,
   "metadata": {},
   "outputs": [],
   "source": []
  }
 ],
 "metadata": {
  "kernelspec": {
   "display_name": "Python 3",
   "language": "python",
   "name": "python3"
  },
  "language_info": {
   "codemirror_mode": {
    "name": "ipython",
    "version": 3
   },
   "file_extension": ".py",
   "mimetype": "text/x-python",
   "name": "python",
   "nbconvert_exporter": "python",
   "pygments_lexer": "ipython3",
   "version": "3.8.5"
  }
 },
 "nbformat": 4,
 "nbformat_minor": 4
}
