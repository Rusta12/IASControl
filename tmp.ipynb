{
 "cells": [
  {
   "cell_type": "code",
   "execution_count": 1,
   "metadata": {},
   "outputs": [],
   "source": [
    "import pandas as pd\n",
    "import numpy as np\n",
    "import time\n",
    "from datetime import datetime\n",
    "import os\n",
    "import re"
   ]
  },
  {
   "cell_type": "code",
   "execution_count": 2,
   "metadata": {},
   "outputs": [],
   "source": [
    "import new_ias_basic_function as ias\n",
    "from settings.config import login_b, login_a, pass_b, pass_a\n",
    "from settings.config import *\n",
    "name_period = '2024'"
   ]
  },
  {
   "cell_type": "code",
   "execution_count": 3,
   "metadata": {},
   "outputs": [],
   "source": [
    "#========= Вход\n",
    "ias.come_application(login_b, pass_b)\n",
    "#======== Чистка фильтров\n",
    "ias.clear_filters('мероприятия')\n",
    "#======== Фильтр календаря\n",
    "ias.filter_application(name_period, 'мероприятия')\n",
    "#======== Фильтр статуса\n",
    "ias.status_sport()\n",
    "#======== Фильтр участия на соглосование\n",
    "ias.status_paty()\n",
    "#======= Цикл перебора мероприятий"
   ]
  },
  {
   "cell_type": "code",
   "execution_count": 4,
   "metadata": {},
   "outputs": [],
   "source": [
    "driver.implicitly_wait(30)\n",
    "find = driver.find_element(By.XPATH,  \n",
    "         \"//app-events-section-header/form[1]/div[2]/div[2]/app-search-input[1]/div[1]/input[1]\")\n",
    "find.clear()\n",
    "time.sleep(1)\n",
    "find.send_keys(91443, Keys.RETURN)\n",
    "driver.implicitly_wait(30)\n",
    "time.sleep(1)\n",
    "driver.find_element(By.XPATH, \"//datatable-body-cell/div[1]/div[1]/img[1]\").click()\n",
    "driver.implicitly_wait(30)\n",
    "time.sleep(1)"
   ]
  },
  {
   "cell_type": "code",
   "execution_count": 5,
   "metadata": {},
   "outputs": [],
   "source": [
    "time.sleep(1)\n",
    "driver.find_element(By.XPATH, \"//div[contains(text(),'Развернуть')]\").click()\n",
    "time.sleep(1)"
   ]
  },
  {
   "cell_type": "code",
   "execution_count": 6,
   "metadata": {},
   "outputs": [],
   "source": [
    "handles = driver.window_handles\n",
    "driver.switch_to.window(handles[1])\n",
    "time.sleep(5)"
   ]
  },
  {
   "cell_type": "code",
   "execution_count": 7,
   "metadata": {},
   "outputs": [],
   "source": [
    "driver.find_element(By.XPATH, \"//mat-tab-header/div[1]/div[1]/div[1]/div[3]/div[1]/div[1]/div[1]\").click()\n",
    "time.sleep(5)\n",
    "driver.implicitly_wait(50)\n",
    "elements_button = driver.find_elements(By.CLASS_NAME, \"mat-menu-trigger\")"
   ]
  },
  {
   "cell_type": "code",
   "execution_count": 8,
   "metadata": {},
   "outputs": [
    {
     "name": "stdout",
     "output_type": "stream",
     "text": [
      "2\n",
      "0 (на согласование)\n",
      "0\n",
      "Элемент найден!\n",
      "Участие соглосованно\n",
      "1 (на согласование)\n",
      "1\n",
      "Элемент найден!\n",
      "Участие соглосованно\n"
     ]
    }
   ],
   "source": [
    "#elements_button = driver.find_elements(By.CSS_SELECTOR, \"span.icon-hamburger_outline\")\n",
    "elements_text = driver.find_elements(By.XPATH, \"//tbody[@class='ng-star-inserted']\")\n",
    "print(len(elements_button))\n",
    "text =''\n",
    "for i in elements_text:\n",
    "    text += i.text +\"\\n\"\n",
    "    pattern = re.compile(r'\\(утверждена\\)|\\(на согласование\\)|\\(проект\\)|\\(архив\\)')\n",
    "    #values_in_brackets = re.findall(r'\\((.*?)\\)', text)\n",
    "    values_in_brackets =re.findall(pattern, text)\n",
    "#while True:\n",
    "for idx, value in enumerate(values_in_brackets, 0):\n",
    "    print(idx, value)\n",
    "    if value == '(на согласование)':\n",
    "        el_status = idx\n",
    "        driver.execute_script(\"window.scrollTo(0, 5000)\")\n",
    "        time.sleep(1)\n",
    "        driver.implicitly_wait(50)\n",
    "        print(el_status)\n",
    "        elements_button[el_status].click()\n",
    "\n",
    "        button = driver.find_element(By.LINK_TEXT,'Редактировать статус участия')\n",
    "        button.click()\n",
    "        driver.implicitly_wait(30)\n",
    "        input_status = driver.find_element(By.XPATH, '//input[@aria-autocomplete=\"list\"]')\n",
    "        print('Элемент найден!')\n",
    "        driver.implicitly_wait(55)\n",
    "        time.sleep(2)\n",
    "        try:\n",
    "            input_status.click()\n",
    "            time.sleep(1)\n",
    "            try:\n",
    "                accept = driver.find_element(By.XPATH, \"//span[contains(text(),'утверждена')]\")\n",
    "                accept.click()\n",
    "                time.sleep(1)\n",
    "                driver.implicitly_wait(15)\n",
    "                accept = driver.find_element(By.XPATH, \"//button[contains(text(),'Сохранить')]\")\n",
    "                accept.click()\n",
    "                print('Участие соглосованно')\n",
    "            except:\n",
    "                cancel = driver.find_element(By.XPATH, \"//button[contains(text(),'Отменить')]\")\n",
    "                cancel.click()\n",
    "                pass\n",
    "        except:\n",
    "            print(el_status, ' Ошибка соглосования элемента!')\n",
    "            pass\n",
    "    else:\n",
    "        pass\n",
    "\n",
    "   "
   ]
  }
 ],
 "metadata": {
  "kernelspec": {
   "display_name": "Python 3",
   "language": "python",
   "name": "python3"
  },
  "language_info": {
   "codemirror_mode": {
    "name": "ipython",
    "version": 3
   },
   "file_extension": ".py",
   "mimetype": "text/x-python",
   "name": "python",
   "nbconvert_exporter": "python",
   "pygments_lexer": "ipython3",
   "version": "3.8.5"
  }
 },
 "nbformat": 4,
 "nbformat_minor": 4
}
