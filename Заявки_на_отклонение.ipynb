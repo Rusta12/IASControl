{
 "cells": [
  {
   "cell_type": "code",
   "execution_count": 1,
   "metadata": {},
   "outputs": [],
   "source": [
    "import pandas as pd\n",
    "import numpy as np\n",
    "import os\n",
    "import re"
   ]
  },
  {
   "cell_type": "code",
   "execution_count": 2,
   "metadata": {},
   "outputs": [],
   "source": [
    "import new_ias_main_function as ias"
   ]
  },
  {
   "cell_type": "markdown",
   "metadata": {},
   "source": [
    "### Отклонить заявки"
   ]
  },
  {
   "cell_type": "code",
   "execution_count": 3,
   "metadata": {},
   "outputs": [],
   "source": [
    "file_name = r\"C:/DataIAS/Список спортмероприятий (отклонение).xlsx\""
   ]
  },
  {
   "cell_type": "code",
   "execution_count": 4,
   "metadata": {
    "scrolled": true
   },
   "outputs": [],
   "source": [
    "#Загрузить файл с реестровыми номерами\n",
    "xls = pd.ExcelFile(file_name)\n",
    "df = pd.read_excel(xls, 'Sheet1')"
   ]
  },
  {
   "cell_type": "code",
   "execution_count": 5,
   "metadata": {
    "scrolled": true
   },
   "outputs": [
    {
     "name": "stdout",
     "output_type": "stream",
     "text": [
      "0 из 17\n",
      "=== 85758 ===\n",
      "1 из 17\n",
      "=== 63001 ===\n",
      "2 из 17\n",
      "=== 41123 ===\n",
      "3 из 17\n",
      "=== 82690 ===\n",
      "4 из 17\n",
      "=== 13342 ===\n",
      "5 из 17\n",
      "=== 76907 ===\n",
      "6 из 17\n",
      "=== 53695 ===\n",
      "7 из 17\n",
      "=== 92039 ===\n",
      "8 из 17\n",
      "=== 24841 ===\n",
      "9 из 17\n",
      "=== 88054 ===\n",
      "10 из 17\n",
      "=== 19850 ===\n",
      "11 из 17\n",
      "=== 19853 ===\n",
      "12 из 17\n",
      "=== 19849 ===\n",
      "13 из 17\n",
      "=== 4992 ===\n",
      "14 из 17\n",
      "=== 4994 ===\n",
      "15 из 17\n",
      "=== 53425 ===\n",
      "16 из 17\n",
      "=== 4291 ===\n",
      "17 из 17\n",
      "=== 68452 ===\n",
      "68452 Мероприятие не найдено\n"
     ]
    },
    {
     "data": {
      "text/plain": [
       "[68452]"
      ]
     },
     "execution_count": 5,
     "metadata": {},
     "output_type": "execute_result"
    }
   ],
   "source": [
    "#Функция отправки списка мероприятий на комиссию\n",
    "ias.deviation(2025, df)\n"
   ]
  },
  {
   "cell_type": "code",
   "execution_count": null,
   "metadata": {},
   "outputs": [],
   "source": []
  },
  {
   "cell_type": "code",
   "execution_count": 6,
   "metadata": {},
   "outputs": [],
   "source": [
    "df = (df[df['Реестр №'] < 0])\n",
    "df.to_excel(file_name, index=False)"
   ]
  },
  {
   "cell_type": "code",
   "execution_count": null,
   "metadata": {},
   "outputs": [],
   "source": []
  }
 ],
 "metadata": {
  "kernelspec": {
   "display_name": "Python 3",
   "language": "python",
   "name": "python3"
  },
  "language_info": {
   "codemirror_mode": {
    "name": "ipython",
    "version": 3
   },
   "file_extension": ".py",
   "mimetype": "text/x-python",
   "name": "python",
   "nbconvert_exporter": "python",
   "pygments_lexer": "ipython3",
   "version": "3.8.5"
  }
 },
 "nbformat": 4,
 "nbformat_minor": 4
}
