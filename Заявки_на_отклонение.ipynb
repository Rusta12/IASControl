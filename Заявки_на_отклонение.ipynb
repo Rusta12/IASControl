{
 "cells": [
  {
   "cell_type": "code",
   "execution_count": 1,
   "metadata": {},
   "outputs": [],
   "source": [
    "import pandas as pd\n",
    "import numpy as np\n",
    "import os\n",
    "import re"
   ]
  },
  {
   "cell_type": "code",
   "execution_count": 2,
   "metadata": {},
   "outputs": [],
   "source": [
    "import new_ias_main_function as ias"
   ]
  },
  {
   "cell_type": "markdown",
   "metadata": {},
   "source": [
    "### Отклонить заявки"
   ]
  },
  {
   "cell_type": "code",
   "execution_count": 4,
   "metadata": {},
   "outputs": [],
   "source": [
    "file_name = r\"C:/DataIAS/Список спортмероприятий (отклонение).xlsx\""
   ]
  },
  {
   "cell_type": "code",
   "execution_count": 5,
   "metadata": {
    "scrolled": true
   },
   "outputs": [],
   "source": [
    "#Загрузить файл с реестровыми номерами\n",
    "xls = pd.ExcelFile(file_name)\n",
    "df = pd.read_excel(xls, 'Sheet1')"
   ]
  },
  {
   "cell_type": "code",
   "execution_count": 6,
   "metadata": {
    "scrolled": true
   },
   "outputs": [
    {
     "name": "stdout",
     "output_type": "stream",
     "text": [
      "0 из 17\n",
      "=== 87555 ===\n",
      "1 из 17\n",
      "=== 88364 ===\n",
      "2 из 17\n",
      "=== 79325 ===\n",
      "3 из 17\n",
      "=== 78899 ===\n",
      "4 из 17\n",
      "=== 62547 ===\n",
      "5 из 17\n",
      "=== 38594 ===\n",
      "6 из 17\n",
      "=== 87402 ===\n",
      "7 из 17\n",
      "=== 69305 ===\n",
      "8 из 17\n",
      "=== 18463 ===\n",
      "9 из 17\n",
      "=== 72382 ===\n",
      "10 из 17\n",
      "=== 30224 ===\n",
      "11 из 17\n",
      "=== 81357 ===\n",
      "12 из 17\n",
      "=== 72638 ===\n",
      "13 из 17\n",
      "=== 72639 ===\n",
      "14 из 17\n",
      "=== 86371 ===\n",
      "15 из 17\n",
      "=== 60080 ===\n",
      "16 из 17\n",
      "=== 72736 ===\n",
      "17 из 17\n",
      "=== 73450 ===\n"
     ]
    },
    {
     "data": {
      "text/plain": [
       "[]"
      ]
     },
     "execution_count": 6,
     "metadata": {},
     "output_type": "execute_result"
    }
   ],
   "source": [
    "#Функция отправки списка мероприятий на комиссию\n",
    "ias.deviation(2025, df, '2.1')\n"
   ]
  },
  {
   "cell_type": "code",
   "execution_count": null,
   "metadata": {},
   "outputs": [],
   "source": []
  },
  {
   "cell_type": "code",
   "execution_count": 7,
   "metadata": {},
   "outputs": [],
   "source": [
    "df = (df[df['Реестр №'] < 0])\n",
    "df.to_excel(file_name, index=False)"
   ]
  },
  {
   "cell_type": "code",
   "execution_count": null,
   "metadata": {},
   "outputs": [],
   "source": []
  }
 ],
 "metadata": {
  "kernelspec": {
   "display_name": "Python 3 (ipykernel)",
   "language": "python",
   "name": "python3"
  },
  "language_info": {
   "codemirror_mode": {
    "name": "ipython",
    "version": 3
   },
   "file_extension": ".py",
   "mimetype": "text/x-python",
   "name": "python",
   "nbconvert_exporter": "python",
   "pygments_lexer": "ipython3",
   "version": "3.12.7"
  }
 },
 "nbformat": 4,
 "nbformat_minor": 4
}
