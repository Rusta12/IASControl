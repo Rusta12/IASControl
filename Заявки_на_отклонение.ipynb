{
 "cells": [
  {
   "cell_type": "code",
   "execution_count": 1,
   "metadata": {},
   "outputs": [],
   "source": [
    "import pandas as pd\n",
    "import numpy as np\n",
    "import os\n",
    "import re"
   ]
  },
  {
   "cell_type": "code",
   "execution_count": 2,
   "metadata": {},
   "outputs": [],
   "source": [
    "import new_ias_main_function as ias"
   ]
  },
  {
   "cell_type": "markdown",
   "metadata": {},
   "source": [
    "### Отклонить заявки"
   ]
  },
  {
   "cell_type": "code",
   "execution_count": 3,
   "metadata": {},
   "outputs": [],
   "source": [
    "file_name = r\"C:/DataIAS/Список спортмероприятий (отклонение).xlsx\""
   ]
  },
  {
   "cell_type": "code",
   "execution_count": 4,
   "metadata": {
    "scrolled": true
   },
   "outputs": [],
   "source": [
    "#Загрузить файл с реестровыми номерами\n",
    "xls = pd.ExcelFile(file_name)\n",
    "df = pd.read_excel(xls, 'Sheet1')"
   ]
  },
  {
   "cell_type": "code",
   "execution_count": 5,
   "metadata": {
    "scrolled": true
   },
   "outputs": [
    {
     "name": "stdout",
     "output_type": "stream",
     "text": [
      "0 из 44\n",
      "=== 3727 ===\n",
      "1 из 44\n",
      "=== 3729 ===\n",
      "2 из 44\n",
      "=== 53293 ===\n",
      "3 из 44\n",
      "=== 54157 ===\n",
      "4 из 44\n",
      "=== 38819 ===\n",
      "38819 Мероприятие не найдено\n",
      "5 из 44\n",
      "=== 55496 ===\n",
      "6 из 44\n",
      "=== 54214 ===\n",
      "7 из 44\n",
      "=== 55505 ===\n",
      "8 из 44\n",
      "=== 53938 ===\n",
      "9 из 44\n",
      "=== 55564 ===\n",
      "10 из 44\n",
      "=== 55561 ===\n",
      "11 из 44\n",
      "=== 19127 ===\n",
      "12 из 44\n",
      "=== 3728 ===\n",
      "13 из 44\n",
      "=== 76926 ===\n",
      "14 из 44\n",
      "=== 15810 ===\n",
      "15 из 44\n",
      "=== 77561 ===\n",
      "16 из 44\n",
      "=== 76792 ===\n",
      "17 из 44\n",
      "=== 81077 ===\n",
      "18 из 44\n",
      "=== 2661 ===\n",
      "19 из 44\n",
      "=== 1958 ===\n",
      "20 из 44\n",
      "=== 90135 ===\n",
      "21 из 44\n",
      "=== 15212 ===\n",
      "22 из 44\n",
      "=== 15225 ===\n",
      "23 из 44\n",
      "=== 15337 ===\n",
      "24 из 44\n",
      "=== 23734 ===\n",
      "25 из 44\n",
      "=== 35783 ===\n",
      "26 из 44\n",
      "=== 35784 ===\n",
      "27 из 44\n",
      "=== 3135 ===\n",
      "28 из 44\n",
      "=== 35786 ===\n",
      "29 из 44\n",
      "=== 64102 ===\n",
      "30 из 44\n",
      "=== 72104 ===\n",
      "31 из 44\n",
      "=== 89493 ===\n",
      "32 из 44\n",
      "=== 54830 ===\n",
      "33 из 44\n",
      "=== 54885 ===\n",
      "34 из 44\n",
      "=== 64465 ===\n",
      "64465 Мероприятие не найдено\n",
      "35 из 44\n",
      "=== 64482 ===\n",
      "64482 Мероприятие не найдено\n",
      "36 из 44\n",
      "=== 64485 ===\n",
      "64485 Мероприятие не найдено\n",
      "37 из 44\n",
      "=== 64504 ===\n",
      "64504 Мероприятие не найдено\n",
      "38 из 44\n",
      "=== 64500 ===\n",
      "64500 Мероприятие не найдено\n",
      "39 из 44\n",
      "=== 64498 ===\n",
      "64498 Мероприятие не найдено\n",
      "40 из 44\n",
      "=== 64487 ===\n",
      "64487 Мероприятие не найдено\n",
      "41 из 44\n",
      "=== 64503 ===\n",
      "64503 Мероприятие не найдено\n",
      "42 из 44\n",
      "=== 64509 ===\n",
      "64509 Мероприятие не найдено\n",
      "43 из 44\n",
      "=== 64508 ===\n",
      "64508 Мероприятие не найдено\n",
      "44 из 44\n",
      "=== 64511 ===\n",
      "64511 Мероприятие не найдено\n"
     ]
    },
    {
     "data": {
      "text/plain": [
       "[38819,\n",
       " 64465,\n",
       " 64482,\n",
       " 64485,\n",
       " 64504,\n",
       " 64500,\n",
       " 64498,\n",
       " 64487,\n",
       " 64503,\n",
       " 64509,\n",
       " 64508,\n",
       " 64511]"
      ]
     },
     "execution_count": 5,
     "metadata": {},
     "output_type": "execute_result"
    }
   ],
   "source": [
    "#Функция отправки списка мероприятий на комиссию\n",
    "ias.deviation(2025, df)\n"
   ]
  },
  {
   "cell_type": "code",
   "execution_count": null,
   "metadata": {},
   "outputs": [],
   "source": []
  },
  {
   "cell_type": "code",
   "execution_count": 6,
   "metadata": {},
   "outputs": [],
   "source": [
    "df = (df[df['Реестр №'] < 0])\n",
    "df.to_excel(file_name, index=False)"
   ]
  },
  {
   "cell_type": "code",
   "execution_count": null,
   "metadata": {},
   "outputs": [],
   "source": []
  }
 ],
 "metadata": {
  "kernelspec": {
   "display_name": "Python 3",
   "language": "python",
   "name": "python3"
  },
  "language_info": {
   "codemirror_mode": {
    "name": "ipython",
    "version": 3
   },
   "file_extension": ".py",
   "mimetype": "text/x-python",
   "name": "python",
   "nbconvert_exporter": "python",
   "pygments_lexer": "ipython3",
   "version": "3.8.5"
  }
 },
 "nbformat": 4,
 "nbformat_minor": 4
}
