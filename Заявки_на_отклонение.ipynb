{
 "cells": [
  {
   "cell_type": "code",
   "execution_count": 1,
   "metadata": {},
   "outputs": [],
   "source": [
    "import pandas as pd\n",
    "import numpy as np\n",
    "import os\n",
    "import re"
   ]
  },
  {
   "cell_type": "code",
   "execution_count": 2,
   "metadata": {},
   "outputs": [],
   "source": [
    "import new_ias_main_function as ias"
   ]
  },
  {
   "cell_type": "markdown",
   "metadata": {},
   "source": [
    "### Отклонить заявки"
   ]
  },
  {
   "cell_type": "code",
   "execution_count": 3,
   "metadata": {},
   "outputs": [],
   "source": [
    "file_name = r\"C:/DataIAS/Список спортмероприятий (отклонение).xlsx\""
   ]
  },
  {
   "cell_type": "code",
   "execution_count": 4,
   "metadata": {
    "scrolled": true
   },
   "outputs": [],
   "source": [
    "#Загрузить файл с реестровыми номерами\n",
    "xls = pd.ExcelFile(file_name)\n",
    "df = pd.read_excel(xls, 'Sheet1')"
   ]
  },
  {
   "cell_type": "code",
   "execution_count": 5,
   "metadata": {
    "scrolled": true
   },
   "outputs": [
    {
     "name": "stdout",
     "output_type": "stream",
     "text": [
      "0 из 16\n",
      "=== 89911 ===\n",
      "1 из 16\n",
      "=== 78997 ===\n",
      "2 из 16\n",
      "=== 78899 ===\n",
      "3 из 16\n",
      "=== 68483 ===\n",
      "68483 Мероприятие не найдено\n",
      "4 из 16\n",
      "=== 68231 ===\n",
      "5 из 16\n",
      "=== 18462 ===\n",
      "6 из 16\n",
      "=== 18463 ===\n",
      "7 из 16\n",
      "=== 18460 ===\n",
      "8 из 16\n",
      "=== 37644 ===\n",
      "9 из 16\n",
      "=== 18461 ===\n",
      "10 из 16\n",
      "=== 18672 ===\n",
      "11 из 16\n",
      "=== 81351 ===\n",
      "12 из 16\n",
      "=== 72592 ===\n",
      "13 из 16\n",
      "=== 78610 ===\n",
      "14 из 16\n",
      "=== 88212 ===\n",
      "15 из 16\n",
      "=== 85863 ===\n",
      "16 из 16\n",
      "=== 85958 ===\n"
     ]
    },
    {
     "data": {
      "text/plain": [
       "[68483]"
      ]
     },
     "execution_count": 5,
     "metadata": {},
     "output_type": "execute_result"
    }
   ],
   "source": [
    "#Функция отправки списка мероприятий на комиссию\n",
    "ias.deviation(2025, df)\n"
   ]
  },
  {
   "cell_type": "code",
   "execution_count": null,
   "metadata": {},
   "outputs": [],
   "source": []
  },
  {
   "cell_type": "code",
   "execution_count": 6,
   "metadata": {},
   "outputs": [],
   "source": [
    "df = (df[df['Реестр №'] < 0])\n",
    "df.to_excel(file_name, index=False)"
   ]
  },
  {
   "cell_type": "code",
   "execution_count": null,
   "metadata": {},
   "outputs": [],
   "source": []
  }
 ],
 "metadata": {
  "kernelspec": {
   "display_name": "Python 3",
   "language": "python",
   "name": "python3"
  },
  "language_info": {
   "codemirror_mode": {
    "name": "ipython",
    "version": 3
   },
   "file_extension": ".py",
   "mimetype": "text/x-python",
   "name": "python",
   "nbconvert_exporter": "python",
   "pygments_lexer": "ipython3",
   "version": "3.8.5"
  }
 },
 "nbformat": 4,
 "nbformat_minor": 4
}
