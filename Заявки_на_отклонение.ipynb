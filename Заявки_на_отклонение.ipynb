{
 "cells": [
  {
   "cell_type": "code",
   "execution_count": 1,
   "metadata": {},
   "outputs": [],
   "source": [
    "import pandas as pd\n",
    "import numpy as np\n",
    "import os\n",
    "import re"
   ]
  },
  {
   "cell_type": "code",
   "execution_count": 2,
   "metadata": {},
   "outputs": [],
   "source": [
    "import new_ias_main_function as ias"
   ]
  },
  {
   "cell_type": "markdown",
   "metadata": {},
   "source": [
    "### Отклонить заявки"
   ]
  },
  {
   "cell_type": "code",
   "execution_count": 3,
   "metadata": {},
   "outputs": [],
   "source": [
    "file_name = r\"C:/DataIAS/Список спортмероприятий (отклонение).xlsx\""
   ]
  },
  {
   "cell_type": "code",
   "execution_count": 4,
   "metadata": {
    "scrolled": true
   },
   "outputs": [],
   "source": [
    "#Загрузить файл с реестровыми номерами\n",
    "xls = pd.ExcelFile(file_name)\n",
    "df = pd.read_excel(xls, 'Sheet1')"
   ]
  },
  {
   "cell_type": "code",
   "execution_count": 5,
   "metadata": {
    "scrolled": true
   },
   "outputs": [
    {
     "name": "stdout",
     "output_type": "stream",
     "text": [
      "0 из 20\n",
      "=== 67971 ===\n",
      "1 из 20\n",
      "=== 91649 ===\n",
      "2 из 20\n",
      "=== 91650 ===\n",
      "3 из 20\n",
      "=== 91684 ===\n",
      "4 из 20\n",
      "=== 91530 ===\n",
      "5 из 20\n",
      "=== 91615 ===\n",
      "6 из 20\n",
      "=== 91457 ===\n",
      "7 из 20\n",
      "=== 91576 ===\n",
      "8 из 20\n",
      "=== 91577 ===\n",
      "9 из 20\n",
      "=== 91578 ===\n",
      "10 из 20\n",
      "=== 91579 ===\n",
      "11 из 20\n",
      "=== 91580 ===\n",
      "12 из 20\n",
      "=== 91592 ===\n",
      "13 из 20\n",
      "=== 91634 ===\n",
      "91634 Мероприятие не найдено\n",
      "14 из 20\n",
      "=== 91683 ===\n",
      "15 из 20\n",
      "=== 91694 ===\n",
      "16 из 20\n",
      "=== 91695 ===\n",
      "17 из 20\n",
      "=== 91696 ===\n",
      "18 из 20\n",
      "=== 91700 ===\n",
      "19 из 20\n",
      "=== 92198 ===\n",
      "20 из 20\n",
      "=== 91600 ===\n"
     ]
    },
    {
     "data": {
      "text/plain": [
       "[91634]"
      ]
     },
     "execution_count": 5,
     "metadata": {},
     "output_type": "execute_result"
    }
   ],
   "source": [
    "#Функция отправки списка мероприятий на комиссию\n",
    "ias.deviation(2024, df)\n"
   ]
  },
  {
   "cell_type": "code",
   "execution_count": null,
   "metadata": {},
   "outputs": [],
   "source": []
  },
  {
   "cell_type": "code",
   "execution_count": 6,
   "metadata": {},
   "outputs": [],
   "source": [
    "df = (df[df['Реестр №'] < 0])\n",
    "df.to_excel(file_name, index=False)"
   ]
  },
  {
   "cell_type": "code",
   "execution_count": null,
   "metadata": {},
   "outputs": [],
   "source": []
  }
 ],
 "metadata": {
  "kernelspec": {
   "display_name": "Python 3",
   "language": "python",
   "name": "python3"
  },
  "language_info": {
   "codemirror_mode": {
    "name": "ipython",
    "version": 3
   },
   "file_extension": ".py",
   "mimetype": "text/x-python",
   "name": "python",
   "nbconvert_exporter": "python",
   "pygments_lexer": "ipython3",
   "version": "3.8.5"
  }
 },
 "nbformat": 4,
 "nbformat_minor": 4
}
