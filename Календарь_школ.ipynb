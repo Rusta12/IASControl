{
 "cells": [
  {
   "cell_type": "code",
   "execution_count": 1,
   "metadata": {},
   "outputs": [],
   "source": [
    "import pandas as pd\n",
    "import numpy as np\n",
    "import os\n",
    "import re\n",
    "\n",
    "from reports.loader_report_fin import CalendarSchoolSportFinans\n",
    "from reports.analysis_report_fin import mean_analysis"
   ]
  },
  {
   "cell_type": "code",
   "execution_count": 2,
   "metadata": {},
   "outputs": [],
   "source": [
    "#Если используем все типы комментируем и не вызываем \n",
    "typefin_list = None\n",
    "#typefin_list = ['бюджет']\n",
    "\n",
    "status = None\n",
    "#status = 'проект'\n",
    "status = 'завершено'"
   ]
  },
  {
   "cell_type": "code",
   "execution_count": 3,
   "metadata": {},
   "outputs": [],
   "source": [
    "period = '2025'\n",
    "#name = 'выгрузка 12 ноября'\n",
    "razdel = '6.5 Учреждения Москомспорта (раздел для подведомственных организаций)'\n",
    "#razdel = '6.35. ГБУ ДО МКСШ «Новая Москва»'\n",
    "#razdel = '6.23. ГБУ ДО «Московская горнолыжная академия»'\n",
    "#razdel = '6.23. ГБУ ДО «Московская горнолыжная академия»'\n",
    "file_name = r\"C:\\DataIAS\\CompetitionCalendarSchoolSportFinans.csv\""
   ]
  },
  {
   "cell_type": "code",
   "execution_count": 4,
   "metadata": {},
   "outputs": [
    {
     "name": "stdout",
     "output_type": "stream",
     "text": [
      "Выбрана опция: Единый календарный план физкультурных, спортивных и массовых спортивно-зрелищных мероприятий города Москвы на 2025 год\n"
     ]
    }
   ],
   "source": [
    "CalendarSchoolSportFinans(period, razdel, status, typefin_list)"
   ]
  },
  {
   "cell_type": "code",
   "execution_count": 5,
   "metadata": {},
   "outputs": [
    {
     "name": "stderr",
     "output_type": "stream",
     "text": [
      "C:\\Users\\Bulgakov.rs\\DevConda\\IASControl\\reports\\analysis_report_fin.py:123: ParserWarning: Skipping line 11719: expected 16 fields, saw 17\n",
      "Skipping line 11720: expected 16 fields, saw 17\n",
      "Skipping line 11721: expected 16 fields, saw 17\n",
      "Skipping line 11722: expected 16 fields, saw 17\n",
      "Skipping line 11723: expected 16 fields, saw 17\n",
      "Skipping line 11724: expected 16 fields, saw 17\n",
      "Skipping line 11725: expected 16 fields, saw 17\n",
      "Skipping line 11726: expected 16 fields, saw 17\n",
      "\n",
      "  df = pd.read_csv(file_name, on_bad_lines='warn')\n"
     ]
    },
    {
     "name": "stdout",
     "output_type": "stream",
     "text": [
      "Файл успешно сохранился\n",
      "C:\\DataIAS\\CalendarSchoolSportFinans\\2025\\Calendar2025_6.5 Учреждения Москомспорта (раздел для подведомственных организаций)_15_07_2025.xlsx\n"
     ]
    }
   ],
   "source": [
    "mean_analysis(file_name, period, razdel)"
   ]
  },
  {
   "cell_type": "markdown",
   "metadata": {},
   "source": [
    "### Функция групировки общая по стоимости (название поля, тип расходов)\n",
    "file_name = r\"C:\\DataIAS\\CalendarSchoolSportFinans\\2024\\Calendar_ГЗ_СМ_11_10_2024.xlsx\"\n",
    "xls = pd.ExcelFile(file_name)\n",
    "df = pd.read_excel(xls, 'Sheet1')\n",
    "\n",
    "def group_cost(df, name, type_cost='все'):\n",
    "    if type_cost == 'все':\n",
    "        pass\n",
    "    else:\n",
    "        df = df[(df['Тип расходов'] == type_cost)]\n",
    "    df = df.groupby([name, 'Раздел учреждения']).agg({\n",
    "  \"План расходов\": \"sum\",\n",
    "    \"Кол-во. уч.\": \"sum\",\n",
    "        \"Пров\\Участие\": \"count\"\n",
    "    }).reset_index()\n",
    "    df = df.sort_values(by=['План расходов'], ascending=False)\n",
    "    df.index = np.arange(1,len(df)+1)\n",
    "    return df\n",
    "\n",
    "\n",
    "df = group_cost(df, 'Вид спорта')\n",
    "df = df[(df['Вид спорта'] == 'Спортивное ориентирование')]\n",
    "#df['ИТОГО за год'] = \n",
    "df.to_excel('tmp.xlsx', index=False)\n",
    "df"
   ]
  },
  {
   "cell_type": "code",
   "execution_count": null,
   "metadata": {},
   "outputs": [],
   "source": []
  }
 ],
 "metadata": {
  "kernelspec": {
   "display_name": "Python 3 (ipykernel)",
   "language": "python",
   "name": "python3"
  },
  "language_info": {
   "codemirror_mode": {
    "name": "ipython",
    "version": 3
   },
   "file_extension": ".py",
   "mimetype": "text/x-python",
   "name": "python",
   "nbconvert_exporter": "python",
   "pygments_lexer": "ipython3",
   "version": "3.12.7"
  }
 },
 "nbformat": 4,
 "nbformat_minor": 4
}
