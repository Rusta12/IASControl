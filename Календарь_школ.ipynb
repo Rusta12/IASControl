{
 "cells": [
  {
   "cell_type": "code",
   "execution_count": 1,
   "metadata": {},
   "outputs": [],
   "source": [
    "import pandas as pd\n",
    "import numpy as np\n",
    "import os\n",
    "import re\n",
    "\n",
    "from reports.loader_report_fin import CalendarSchoolSportFinans\n",
    "from reports.analysis_report_fin import mean_analysis"
   ]
  },
  {
   "cell_type": "code",
   "execution_count": 2,
   "metadata": {},
   "outputs": [],
   "source": [
    "#Если используем все типы комментируем и не вызываем \n",
    "typefin_list = None\n",
    "#typefin_list = ['бюджет']\n",
    "\n",
    "status = None\n",
    "status = 'проект'"
   ]
  },
  {
   "cell_type": "code",
   "execution_count": 3,
   "metadata": {},
   "outputs": [],
   "source": [
    "period = '2025'\n",
    "name = 'Тест4'\n",
    "razdel = '6. Учреждения Москомспорта (раздел для подведомственных организаций)'\n",
    "file_name = r\"C:\\DataIAS\\CompetitionCalendarSchoolSportFinans.csv\""
   ]
  },
  {
   "cell_type": "code",
   "execution_count": 4,
   "metadata": {},
   "outputs": [
    {
     "name": "stdout",
     "output_type": "stream",
     "text": [
      "Выбрана опция: Единый календарный план физкультурных, спортивных и массовых спортивно-зрелищных мероприятий города Москвы на 2025 год\n",
      "Выбрана опция: 6. Учреждения Москомспорта (раздел для подведомственных организаций)\n"
     ]
    }
   ],
   "source": [
    "CalendarSchoolSportFinans(period, razdel, status, typefin_list)"
   ]
  },
  {
   "cell_type": "code",
   "execution_count": 5,
   "metadata": {},
   "outputs": [
    {
     "name": "stderr",
     "output_type": "stream",
     "text": [
      "b'Skipping line 7016: expected 16 fields, saw 17\\nSkipping line 7017: expected 16 fields, saw 17\\nSkipping line 7018: expected 16 fields, saw 17\\nSkipping line 7019: expected 16 fields, saw 17\\nSkipping line 7020: expected 16 fields, saw 17\\nSkipping line 7021: expected 16 fields, saw 17\\nSkipping line 7022: expected 16 fields, saw 17\\nSkipping line 7023: expected 16 fields, saw 17\\n'\n"
     ]
    },
    {
     "name": "stdout",
     "output_type": "stream",
     "text": [
      "Файл успешно сохранился\n",
      "C:\\DataIAS\\CalendarSchoolSportFinans\\Calendar2025_Тест4_31_10_2024.xlsx\n"
     ]
    }
   ],
   "source": [
    "mean_analysis(file_name, period, name)"
   ]
  },
  {
   "cell_type": "code",
   "execution_count": 7,
   "metadata": {},
   "outputs": [
    {
     "data": {
      "text/html": [
       "<div>\n",
       "<style scoped>\n",
       "    .dataframe tbody tr th:only-of-type {\n",
       "        vertical-align: middle;\n",
       "    }\n",
       "\n",
       "    .dataframe tbody tr th {\n",
       "        vertical-align: top;\n",
       "    }\n",
       "\n",
       "    .dataframe thead th {\n",
       "        text-align: right;\n",
       "    }\n",
       "</style>\n",
       "<table border=\"1\" class=\"dataframe\">\n",
       "  <thead>\n",
       "    <tr style=\"text-align: right;\">\n",
       "      <th></th>\n",
       "      <th>Вид спорта</th>\n",
       "      <th>Раздел учреждения</th>\n",
       "      <th>План расходов</th>\n",
       "      <th>Кол-во. уч.</th>\n",
       "      <th>Пров\\Участие</th>\n",
       "    </tr>\n",
       "  </thead>\n",
       "  <tbody>\n",
       "    <tr>\n",
       "      <th>81</th>\n",
       "      <td>Спортивное ориентирование</td>\n",
       "      <td>ГКУ «ЦСТиСК» Москомспорта</td>\n",
       "      <td>7667.43</td>\n",
       "      <td>2561</td>\n",
       "      <td>59</td>\n",
       "    </tr>\n",
       "    <tr>\n",
       "      <th>179</th>\n",
       "      <td>Спортивное ориентирование</td>\n",
       "      <td>ГБОУ «ЦСиО «Самбо-70» Москомспорта</td>\n",
       "      <td>2593.76</td>\n",
       "      <td>1559</td>\n",
       "      <td>68</td>\n",
       "    </tr>\n",
       "    <tr>\n",
       "      <th>185</th>\n",
       "      <td>Спортивное ориентирование</td>\n",
       "      <td>ГБУ ДО МКСШОР «Восток»</td>\n",
       "      <td>2494.15</td>\n",
       "      <td>308</td>\n",
       "      <td>12</td>\n",
       "    </tr>\n",
       "    <tr>\n",
       "      <th>200</th>\n",
       "      <td>Спортивное ориентирование</td>\n",
       "      <td>ГБУ ДО МКСШОР «Запад»</td>\n",
       "      <td>2213.25</td>\n",
       "      <td>2437</td>\n",
       "      <td>91</td>\n",
       "    </tr>\n",
       "  </tbody>\n",
       "</table>\n",
       "</div>"
      ],
      "text/plain": [
       "                    Вид спорта                   Раздел учреждения  \\\n",
       "81   Спортивное ориентирование           ГКУ «ЦСТиСК» Москомспорта   \n",
       "179  Спортивное ориентирование  ГБОУ «ЦСиО «Самбо-70» Москомспорта   \n",
       "185  Спортивное ориентирование              ГБУ ДО МКСШОР «Восток»   \n",
       "200  Спортивное ориентирование               ГБУ ДО МКСШОР «Запад»   \n",
       "\n",
       "     План расходов  Кол-во. уч.  Пров\\Участие  \n",
       "81         7667.43         2561            59  \n",
       "179        2593.76         1559            68  \n",
       "185        2494.15          308            12  \n",
       "200        2213.25         2437            91  "
      ]
     },
     "execution_count": 7,
     "metadata": {},
     "output_type": "execute_result"
    }
   ],
   "source": [
    "### Функция групировки общая по стоимости (название поля, тип расходов)\n",
    "file_name = r\"C:\\DataIAS\\CalendarSchoolSportFinans\\2024\\Calendar_ГЗ_СМ_11_10_2024.xlsx\"\n",
    "xls = pd.ExcelFile(file_name)\n",
    "df = pd.read_excel(xls, 'Sheet1')\n",
    "\n",
    "def group_cost(df, name, type_cost='все'):\n",
    "    if type_cost == 'все':\n",
    "        pass\n",
    "    else:\n",
    "        df = df[(df['Тип расходов'] == type_cost)]\n",
    "    df = df.groupby([name, 'Раздел учреждения']).agg({\n",
    "  \"План расходов\": \"sum\",\n",
    "    \"Кол-во. уч.\": \"sum\",\n",
    "        \"Пров\\Участие\": \"count\"\n",
    "    }).reset_index()\n",
    "    df = df.sort_values(by=['План расходов'], ascending=False)\n",
    "    df.index = np.arange(1,len(df)+1)\n",
    "    return df\n",
    "\n",
    "\n",
    "df = group_cost(df, 'Вид спорта')\n",
    "df = df[(df['Вид спорта'] == 'Спортивное ориентирование')]\n",
    "#df['ИТОГО за год'] = \n",
    "df.to_excel('tmp.xlsx', index=False)\n",
    "df"
   ]
  },
  {
   "cell_type": "code",
   "execution_count": null,
   "metadata": {},
   "outputs": [],
   "source": []
  }
 ],
 "metadata": {
  "kernelspec": {
   "display_name": "Python 3",
   "language": "python",
   "name": "python3"
  },
  "language_info": {
   "codemirror_mode": {
    "name": "ipython",
    "version": 3
   },
   "file_extension": ".py",
   "mimetype": "text/x-python",
   "name": "python",
   "nbconvert_exporter": "python",
   "pygments_lexer": "ipython3",
   "version": "3.8.5"
  }
 },
 "nbformat": 4,
 "nbformat_minor": 4
}
