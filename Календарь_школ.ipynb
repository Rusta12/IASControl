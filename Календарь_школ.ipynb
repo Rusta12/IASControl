{
 "cells": [
  {
   "cell_type": "code",
   "execution_count": 1,
   "metadata": {},
   "outputs": [],
   "source": [
    "import pandas as pd\n",
    "import numpy as np\n",
    "import os\n",
    "import re\n",
    "\n",
    "from reports.loader_report_fin import CalendarSchoolSportFinans\n",
    "from reports.analysis_report_fin import mean_analysis"
   ]
  },
  {
   "cell_type": "code",
   "execution_count": 2,
   "metadata": {},
   "outputs": [],
   "source": [
    "#Если используем все типы комментируем и не вызываем \n",
    "typefin_list = None\n",
    "#typefin_list = ['бюджет', 'бюджет пр. г.']\n",
    "\n",
    "status = None\n",
    "#status = 'проект'"
   ]
  },
  {
   "cell_type": "code",
   "execution_count": 3,
   "metadata": {},
   "outputs": [],
   "source": [
    "period = '2025'\n",
    "#razdel = '6. Учреждения Москомспорта (раздел для подведомственных организаций)'\n",
    "#razdel = '6.28. ГБУ ДО «САШ»'\n",
    "#razdel = '2.1. Подраздел «Спорт высших достижений и подготовка спортивного резерва» (по видам спорта в соответствии с ВРВС)»'\n",
    "#razdel = '1.6.1. Городские физкультурные мероприятия для лиц с ограниченными возможностями здоровья'\n",
    "razdel = '2.5. Подраздел «Спортивные мероприятия для лиц с ограниченными возможностями здоровья»'\n",
    "file_name = r\"C:\\DataIAS\\CompetitionCalendarSchoolSportFinans.csv\"\n",
    "name = f'{razdel}'"
   ]
  },
  {
   "cell_type": "code",
   "execution_count": 4,
   "metadata": {},
   "outputs": [
    {
     "name": "stdout",
     "output_type": "stream",
     "text": [
      "Выбрана опция: Единый календарный план физкультурных, спортивных и массовых спортивно-зрелищных мероприятий города Москвы на 2025 год\n",
      "Выбрана опция: 2.5. Подраздел «Спортивные мероприятия для лиц с ограниченными возможностями здоровья»\n"
     ]
    }
   ],
   "source": [
    "CalendarSchoolSportFinans(period, razdel, status, typefin_list)"
   ]
  },
  {
   "cell_type": "code",
   "execution_count": 5,
   "metadata": {},
   "outputs": [
    {
     "name": "stderr",
     "output_type": "stream",
     "text": [
      "b'Skipping line 735: expected 16 fields, saw 17\\nSkipping line 736: expected 16 fields, saw 17\\nSkipping line 737: expected 16 fields, saw 17\\nSkipping line 738: expected 16 fields, saw 17\\nSkipping line 739: expected 16 fields, saw 17\\n'\n"
     ]
    },
    {
     "name": "stdout",
     "output_type": "stream",
     "text": [
      "Файл успешно сохранился\n",
      "C:\\DataIAS\\CalendarSchoolSportFinans\\2025\\Calendar2025_2.5. Подраздел «Спортивные мероприятия для лиц с ограниченными возможностями здоровья»_27_12_2024.xlsx\n"
     ]
    }
   ],
   "source": [
    "mean_analysis(file_name, period, name)"
   ]
  }
 ],
 "metadata": {
  "kernelspec": {
   "display_name": "Python 3",
   "language": "python",
   "name": "python3"
  },
  "language_info": {
   "codemirror_mode": {
    "name": "ipython",
    "version": 3
   },
   "file_extension": ".py",
   "mimetype": "text/x-python",
   "name": "python",
   "nbconvert_exporter": "python",
   "pygments_lexer": "ipython3",
   "version": "3.8.5"
  }
 },
 "nbformat": 4,
 "nbformat_minor": 4
}
