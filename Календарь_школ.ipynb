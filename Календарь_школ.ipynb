{
 "cells": [
  {
   "cell_type": "code",
   "execution_count": 1,
   "metadata": {},
   "outputs": [],
   "source": [
    "import pandas as pd\n",
    "import numpy as np\n",
    "import os\n",
    "import re\n",
    "\n",
    "from reports.loader_fin import CalendarSchoolSportFinans"
   ]
  },
  {
   "cell_type": "code",
   "execution_count": 2,
   "metadata": {},
   "outputs": [],
   "source": [
    "period = '2025'\n",
    "razdel = '6. Учреждения Москомспорта (раздел для подведомственных организаций)'\n",
    "status = 'проект'"
   ]
  },
  {
   "cell_type": "code",
   "execution_count": 3,
   "metadata": {},
   "outputs": [
    {
     "name": "stdout",
     "output_type": "stream",
     "text": [
      "Выбрана опция: Единый календарный план физкультурных, спортивных и массовых спортивно-зрелищных мероприятий города Москвы на 2025 год\n",
      "Выбрана опция: 6. Учреждения Москомспорта (раздел для подведомственных организаций)\n"
     ]
    }
   ],
   "source": [
    "CalendarSchoolSportFinans(period, razdel, status)"
   ]
  }
 ],
 "metadata": {
  "kernelspec": {
   "display_name": "Python 3",
   "language": "python",
   "name": "python3"
  },
  "language_info": {
   "codemirror_mode": {
    "name": "ipython",
    "version": 3
   },
   "file_extension": ".py",
   "mimetype": "text/x-python",
   "name": "python",
   "nbconvert_exporter": "python",
   "pygments_lexer": "ipython3",
   "version": "3.8.3"
  }
 },
 "nbformat": 4,
 "nbformat_minor": 4
}
