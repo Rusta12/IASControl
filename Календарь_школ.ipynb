{
 "cells": [
  {
   "cell_type": "markdown",
   "metadata": {},
   "source": [
    "import pandas as pd\n",
    "import numpy as np\n",
    "import os\n",
    "import re\n",
    "\n",
    "from reports.loader_fin import CalendarSchoolSportFinans"
   ]
  },
  {
   "cell_type": "code",
   "execution_count": 1,
   "metadata": {},
   "outputs": [],
   "source": [
    "from selenium import webdriver\n",
    "from selenium.webdriver.chrome.service import Service\n",
    "from selenium.webdriver.common.keys import Keys\n",
    "from selenium.webdriver.common.by import By\n",
    "from selenium.webdriver.support.ui import Select\n",
    "import os\n",
    "import dotenv\n",
    "import time\n",
    "\n",
    "dotenv.load_dotenv(\".env\")\n",
    "\n",
    "login_b = os.getenv('LOGIN_B')\n",
    "pass_b = os.getenv('PASS_B')\n",
    "\n",
    "\n",
    "options = webdriver.ChromeOptions()\n",
    "options.add_experimental_option(\"prefs\", {\n",
    "   \"download.default_directory\": r\"C:\\DataIAS\",\n",
    "   \"download.prompt_for_download\": False,\n",
    "   \"download.directory_upgrade\": True,\n",
    "   \"safebrowsing.enabled\": True\n",
    "})\n",
    "\n",
    "service = Service(executable_path='C:\\DataIAS\\chromedriver.exe')\n",
    "driver = webdriver.Chrome(service=service, options=options)"
   ]
  },
  {
   "cell_type": "code",
   "execution_count": 20,
   "metadata": {},
   "outputs": [],
   "source": [
    "period = '2025'"
   ]
  },
  {
   "cell_type": "code",
   "execution_count": 2,
   "metadata": {},
   "outputs": [],
   "source": [
    "#CalendarSchoolSportFinans('2025', 'задать')"
   ]
  },
  {
   "cell_type": "code",
   "execution_count": 29,
   "metadata": {},
   "outputs": [],
   "source": [
    "def come_fin_report(name, pass_name):\n",
    "    #Вход в ИАС\n",
    "    driver.get(url_report_fin)\n",
    "    driver.implicitly_wait(30)\n",
    "    login = driver.find_element(By.XPATH, \"//input[@id='UserName']\")\n",
    "    login.send_keys(name)\n",
    "    pas = driver.find_element(By.XPATH, \"//input[@id='Password']\")\n",
    "    pas.send_keys(pass_name, Keys.RETURN)\n",
    "    time.sleep(4)\n",
    "    return\n",
    "\n",
    "def calendar_period(period):\n",
    "    time.sleep(1)\n",
    "    select_element = driver.find_element(By.XPATH,\"//select[@id='rvMain_ctl04_ctl03_ddValue']\")\n",
    "    select_element.send_keys(Keys.ENTER)\n",
    "    driver.implicitly_wait(3)\n",
    "    select = Select(select_element)\n",
    "    for option in select.options:\n",
    "        if period in option.text:\n",
    "            select.select_by_visible_text(option.text)\n",
    "            print(f\"Выбрана опция: {option.text}\")\n",
    "            break\n",
    "\n",
    "\n",
    "def calendar_razdel():\n",
    "    while True:\n",
    "        try:\n",
    "            time.sleep(5)\n",
    "            driver.implicitly_wait(5)\n",
    "            # Кликаем на поле подраздела календаря\n",
    "            kalendar_sub =  driver.find_element(By.XPATH,\"//select[@id='rvMain_ctl04_ctl07_ddValue']\")\n",
    "            kalendar_sub.send_keys(Keys.ENTER)\n",
    "            driver.implicitly_wait(3)\n",
    "            # Выбираем подраздел календаря 6 Учреждения Москомспорта\n",
    "            sub_click = driver.find_element(By.XPATH,\"//option[contains(text(),\"\n",
    "                                        \"'6. Учреждения Москомспорта (раздел для подведомств')]\"\n",
    "                                        )\n",
    "            sub_click.click()\n",
    "            driver.implicitly_wait(3)\n",
    "            time.sleep(2)\n",
    "            driver.send_keys(pass_name, Keys.RETURN)\n",
    "            break\n",
    "        except:\n",
    "            pass\n",
    "\n",
    "    "
   ]
  },
  {
   "cell_type": "code",
   "execution_count": 22,
   "metadata": {},
   "outputs": [
    {
     "name": "stdout",
     "output_type": "stream",
     "text": [
      "Выбрана опция: Единый календарный план физкультурных, спортивных и массовых спортивно-зрелищных мероприятий города Москвы на 2025 год\n"
     ]
    }
   ],
   "source": [
    "calendar_period(period)"
   ]
  },
  {
   "cell_type": "code",
   "execution_count": null,
   "metadata": {},
   "outputs": [],
   "source": [
    "calendar_razdel()"
   ]
  },
  {
   "cell_type": "code",
   "execution_count": null,
   "metadata": {},
   "outputs": [],
   "source": []
  }
 ],
 "metadata": {
  "kernelspec": {
   "display_name": "Python 3",
   "language": "python",
   "name": "python3"
  },
  "language_info": {
   "codemirror_mode": {
    "name": "ipython",
    "version": 3
   },
   "file_extension": ".py",
   "mimetype": "text/x-python",
   "name": "python",
   "nbconvert_exporter": "python",
   "pygments_lexer": "ipython3",
   "version": "3.8.3"
  }
 },
 "nbformat": 4,
 "nbformat_minor": 4
}
