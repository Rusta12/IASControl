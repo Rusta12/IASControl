{
 "cells": [
  {
   "cell_type": "code",
   "execution_count": 1,
   "metadata": {},
   "outputs": [],
   "source": [
    "import pandas as pd\n",
    "import numpy as np\n",
    "import os\n",
    "import re"
   ]
  },
  {
   "cell_type": "code",
   "execution_count": 2,
   "metadata": {},
   "outputs": [],
   "source": [
    "import new_ias_main_function as ias"
   ]
  },
  {
   "cell_type": "markdown",
   "metadata": {},
   "source": [
    "### Отправить заявки на исключение"
   ]
  },
  {
   "cell_type": "code",
   "execution_count": 3,
   "metadata": {},
   "outputs": [],
   "source": [
    "file_name = r\"C:/DataIAS/Список спортмероприятий (исключение).xlsx\""
   ]
  },
  {
   "cell_type": "code",
   "execution_count": 4,
   "metadata": {
    "scrolled": true
   },
   "outputs": [],
   "source": [
    "#Загрузить файл с реестровыми номерами\n",
    "xls = pd.ExcelFile(file_name)\n",
    "df = pd.read_excel(xls, 'Sheet1')\n",
    "#Отменено по инициативе организатора"
   ]
  },
  {
   "cell_type": "code",
   "execution_count": 5,
   "metadata": {
    "scrolled": true
   },
   "outputs": [
    {
     "name": "stdout",
     "output_type": "stream",
     "text": [
      "0 из 56\n",
      "=== 86220 ===\n",
      "1 из 56\n",
      "=== 59378 ===\n",
      "2 из 56\n",
      "=== 59150 ===\n",
      "3 из 56\n",
      "=== 87459 ===\n",
      "4 из 56\n",
      "=== 59203 ===\n",
      "5 из 56\n",
      "=== 87109 ===\n",
      "6 из 56\n",
      "=== 87112 ===\n",
      "7 из 56\n",
      "=== 71455 ===\n",
      "8 из 56\n",
      "=== 84579 ===\n",
      "9 из 56\n",
      "=== 76794 ===\n",
      "10 из 56\n",
      "=== 88239 ===\n",
      "11 из 56\n",
      "=== 69773 ===\n",
      "12 из 56\n",
      "=== 72256 ===\n",
      "13 из 56\n",
      "=== 71197 ===\n",
      "14 из 56\n",
      "=== 87523 ===\n",
      "15 из 56\n",
      "=== 87524 ===\n",
      "16 из 56\n",
      "=== 87759 ===\n",
      "17 из 56\n",
      "=== 72813 ===\n",
      "18 из 56\n",
      "=== 71454 ===\n",
      "19 из 56\n",
      "=== 86004 ===\n",
      "20 из 56\n",
      "=== 72595 ===\n",
      "21 из 56\n",
      "=== 62519 ===\n",
      "22 из 56\n",
      "=== 83091 ===\n",
      "23 из 56\n",
      "=== 63322 ===\n",
      "24 из 56\n",
      "=== 82977 ===\n",
      "25 из 56\n",
      "=== 88495 ===\n",
      "26 из 56\n",
      "=== 53554 ===\n",
      "27 из 56\n",
      "=== 38878 ===\n",
      "28 из 56\n",
      "=== 38101 ===\n",
      "29 из 56\n",
      "=== 77326 ===\n",
      "30 из 56\n",
      "=== 88493 ===\n",
      "31 из 56\n",
      "=== 73915 ===\n",
      "32 из 56\n",
      "=== 79690 ===\n",
      "33 из 56\n",
      "=== 13382 ===\n",
      "34 из 56\n",
      "=== 1527 ===\n",
      "35 из 56\n",
      "=== 13419 ===\n",
      "36 из 56\n",
      "=== 13360 ===\n",
      "37 из 56\n",
      "=== 73845 ===\n",
      "38 из 56\n",
      "=== 73853 ===\n",
      "39 из 56\n",
      "=== 13350 ===\n",
      "40 из 56\n",
      "=== 77409 ===\n",
      "41 из 56\n",
      "=== 69585 ===\n",
      "42 из 56\n",
      "=== 24628 ===\n",
      "43 из 56\n",
      "=== 81365 ===\n",
      "44 из 56\n",
      "=== 81370 ===\n",
      "45 из 56\n",
      "=== 81347 ===\n",
      "46 из 56\n",
      "=== 88394 ===\n",
      "47 из 56\n",
      "=== 85051 ===\n",
      "48 из 56\n",
      "=== 87717 ===\n",
      "49 из 56\n",
      "=== 70042 ===\n",
      "50 из 56\n",
      "=== 72104 ===\n",
      "51 из 56\n",
      "=== 86297 ===\n",
      "52 из 56\n",
      "=== 73421 ===\n",
      "53 из 56\n",
      "=== 81445 ===\n",
      "54 из 56\n",
      "=== 81447 ===\n",
      "55 из 56\n",
      "=== 81859 ===\n",
      "56 из 56\n",
      "=== 63683 ===\n"
     ]
    },
    {
     "data": {
      "text/plain": [
       "[]"
      ]
     },
     "execution_count": 5,
     "metadata": {},
     "output_type": "execute_result"
    }
   ],
   "source": [
    "ias.except_approve(2024, df)"
   ]
  },
  {
   "cell_type": "code",
   "execution_count": 6,
   "metadata": {},
   "outputs": [],
   "source": [
    "df = (df[df['Реестр №'] < 0])\n",
    "df.to_excel(file_name, index=False)"
   ]
  },
  {
   "cell_type": "code",
   "execution_count": null,
   "metadata": {},
   "outputs": [],
   "source": []
  }
 ],
 "metadata": {
  "kernelspec": {
   "display_name": "Python 3",
   "language": "python",
   "name": "python3"
  },
  "language_info": {
   "codemirror_mode": {
    "name": "ipython",
    "version": 3
   },
   "file_extension": ".py",
   "mimetype": "text/x-python",
   "name": "python",
   "nbconvert_exporter": "python",
   "pygments_lexer": "ipython3",
   "version": "3.8.5"
  }
 },
 "nbformat": 4,
 "nbformat_minor": 4
}
