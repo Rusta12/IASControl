{
 "cells": [
  {
   "cell_type": "code",
   "execution_count": 1,
   "metadata": {},
   "outputs": [],
   "source": [
    "import pandas as pd\n",
    "import numpy as np\n",
    "import os\n",
    "import re"
   ]
  },
  {
   "cell_type": "code",
   "execution_count": 2,
   "metadata": {},
   "outputs": [],
   "source": [
    "import new_ias_main_function as ias"
   ]
  },
  {
   "cell_type": "markdown",
   "metadata": {},
   "source": [
    "### Отправить заявки на исключение"
   ]
  },
  {
   "cell_type": "code",
   "execution_count": 4,
   "metadata": {},
   "outputs": [],
   "source": [
    "file_name = r\"C:/DataIAS/Список спортмероприятий (исключение).xlsx\""
   ]
  },
  {
   "cell_type": "code",
   "execution_count": 5,
   "metadata": {
    "scrolled": true
   },
   "outputs": [],
   "source": [
    "#Загрузить файл с реестровыми номерами\n",
    "xls = pd.ExcelFile(file_name)\n",
    "df = pd.read_excel(xls, 'Sheet1')\n",
    "#Отменено по инициативе организатора"
   ]
  },
  {
   "cell_type": "code",
   "execution_count": 6,
   "metadata": {
    "scrolled": true
   },
   "outputs": [
    {
     "name": "stdout",
     "output_type": "stream",
     "text": [
      "0 из 31\n",
      "=== 71908 ===\n",
      "Элемент найден и выбран.\n",
      "1 из 31\n",
      "=== 91615 ===\n",
      "Элемент найден и выбран.\n",
      "2 из 31\n",
      "=== 95155 ===\n",
      "Элемент найден и выбран.\n",
      "3 из 31\n",
      "=== 91519 ===\n",
      "Элемент найден и выбран.\n",
      "4 из 31\n",
      "=== 92354 ===\n",
      "Элемент найден и выбран.\n",
      "5 из 31\n",
      "=== 81820 ===\n",
      "Элемент найден и выбран.\n",
      "6 из 31\n",
      "=== 81822 ===\n",
      "Элемент найден и выбран.\n",
      "7 из 31\n",
      "=== 78241 ===\n",
      "Элемент найден и выбран.\n",
      "8 из 31\n",
      "=== 78280 ===\n",
      "Элемент найден и выбран.\n",
      "9 из 31\n",
      "=== 13494 ===\n",
      "13494 Мероприятие не найдено\n",
      "10 из 31\n",
      "=== 1572 ===\n",
      "Элемент найден и выбран.\n",
      "11 из 31\n",
      "=== 81603 ===\n",
      "Элемент найден и выбран.\n",
      "12 из 31\n",
      "=== 82406 ===\n",
      "Элемент найден и выбран.\n",
      "13 из 31\n",
      "=== 59108 ===\n",
      "Элемент найден и выбран.\n",
      "14 из 31\n",
      "=== 71584 ===\n",
      "Элемент найден и выбран.\n",
      "15 из 31\n",
      "=== 13326 ===\n",
      "Элемент найден и выбран.\n",
      "16 из 31\n",
      "=== 2493 ===\n",
      "Элемент найден и выбран.\n",
      "17 из 31\n",
      "=== 81855 ===\n",
      "Элемент найден и выбран.\n",
      "18 из 31\n",
      "=== 81860 ===\n",
      "Элемент найден и выбран.\n",
      "19 из 31\n",
      "=== 63117 ===\n",
      "Элемент найден и выбран.\n",
      "20 из 31\n",
      "=== 94931 ===\n",
      "Элемент найден и выбран.\n",
      "21 из 31\n",
      "=== 91091 ===\n",
      "Элемент найден и выбран.\n",
      "22 из 31\n",
      "=== 87761 ===\n",
      "Элемент найден и выбран.\n",
      "23 из 31\n",
      "=== 93389 ===\n",
      "Элемент найден и выбран.\n",
      "24 из 31\n",
      "=== 2728 ===\n",
      "Элемент найден и выбран.\n",
      "25 из 31\n",
      "=== 2729 ===\n",
      "Элемент найден и выбран.\n",
      "26 из 31\n",
      "=== 15826 ===\n",
      "Элемент найден и выбран.\n",
      "27 из 31\n",
      "=== 35780 ===\n",
      "Элемент найден и выбран.\n",
      "28 из 31\n",
      "=== 62110 ===\n",
      "Элемент найден и выбран.\n",
      "29 из 31\n",
      "=== 79816 ===\n",
      "Элемент найден и выбран.\n",
      "30 из 31\n",
      "=== 91531 ===\n",
      "Элемент найден и выбран.\n",
      "31 из 31\n",
      "=== 11164 ===\n",
      "Элемент найден и выбран.\n"
     ]
    },
    {
     "data": {
      "text/plain": [
       "[13494]"
      ]
     },
     "execution_count": 6,
     "metadata": {},
     "output_type": "execute_result"
    }
   ],
   "source": [
    "ias.except_approve(2025, df)"
   ]
  },
  {
   "cell_type": "code",
   "execution_count": 7,
   "metadata": {},
   "outputs": [],
   "source": [
    "df = (df[df['Реестр №'] < 0])\n",
    "df.to_excel(file_name, index=False)"
   ]
  },
  {
   "cell_type": "code",
   "execution_count": null,
   "metadata": {},
   "outputs": [],
   "source": []
  }
 ],
 "metadata": {
  "kernelspec": {
   "display_name": "Python 3 (ipykernel)",
   "language": "python",
   "name": "python3"
  },
  "language_info": {
   "codemirror_mode": {
    "name": "ipython",
    "version": 3
   },
   "file_extension": ".py",
   "mimetype": "text/x-python",
   "name": "python",
   "nbconvert_exporter": "python",
   "pygments_lexer": "ipython3",
   "version": "3.12.7"
  }
 },
 "nbformat": 4,
 "nbformat_minor": 4
}
