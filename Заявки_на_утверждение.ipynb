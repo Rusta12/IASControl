{
 "cells": [
  {
   "cell_type": "code",
   "execution_count": 1,
   "metadata": {},
   "outputs": [],
   "source": [
    "import pandas as pd\n",
    "import numpy as np"
   ]
  },
  {
   "cell_type": "code",
   "execution_count": 2,
   "metadata": {},
   "outputs": [],
   "source": [
    "import new_ias_main_function as ias"
   ]
  },
  {
   "cell_type": "markdown",
   "metadata": {},
   "source": [
    "### Утвердить заявки"
   ]
  },
  {
   "cell_type": "code",
   "execution_count": 3,
   "metadata": {},
   "outputs": [],
   "source": [
    "file_name = r\"C:/DataIAS/Список спортмероприятий (утверждение).xlsx\""
   ]
  },
  {
   "cell_type": "code",
   "execution_count": 4,
   "metadata": {},
   "outputs": [],
   "source": [
    "#Загрузить файл с реестровыми номерами\n",
    "xls = pd.ExcelFile(file_name)\n",
    "df = pd.read_excel(xls, 'Sheet1')\n",
    "df.iloc[:,1] = ''"
   ]
  },
  {
   "cell_type": "code",
   "execution_count": 5,
   "metadata": {
    "scrolled": true
   },
   "outputs": [
    {
     "name": "stdout",
     "output_type": "stream",
     "text": [
      "0 из 61\n",
      "=== 92162 ===\n",
      "1 из 61\n",
      "=== 84939 ===\n",
      "2 из 61\n",
      "=== 68499 ===\n",
      "3 из 61\n",
      "=== 89976 ===\n",
      "4 из 61\n",
      "=== 92148 ===\n",
      "5 из 61\n",
      "=== 92151 ===\n",
      "6 из 61\n",
      "=== 92152 ===\n",
      "7 из 61\n",
      "=== 92153 ===\n",
      "8 из 61\n",
      "=== 92154 ===\n",
      "9 из 61\n",
      "=== 92155 ===\n",
      "10 из 61\n",
      "=== 89072 ===\n",
      "11 из 61\n",
      "=== 62759 ===\n",
      "62759 Мероприятие не найдено\n",
      "12 из 61\n",
      "=== 1586 ===\n",
      "13 из 61\n",
      "=== 2094 ===\n",
      "14 из 61\n",
      "=== 15114 ===\n",
      "15 из 61\n",
      "=== 2097 ===\n",
      "16 из 61\n",
      "=== 2092 ===\n",
      "17 из 61\n",
      "=== 1304 ===\n",
      "18 из 61\n",
      "=== 1251 ===\n",
      "19 из 61\n",
      "=== 82074 ===\n",
      "20 из 61\n",
      "=== 91890 ===\n",
      "21 из 61\n",
      "=== 82165 ===\n",
      "22 из 61\n",
      "=== 62841 ===\n",
      "23 из 61\n",
      "=== 73077 ===\n",
      "24 из 61\n",
      "=== 82166 ===\n",
      "25 из 61\n",
      "=== 72953 ===\n",
      "26 из 61\n",
      "=== 82177 ===\n",
      "27 из 61\n",
      "=== 73192 ===\n",
      "28 из 61\n",
      "=== 62852 ===\n",
      "29 из 61\n",
      "=== 2786 ===\n",
      "30 из 61\n",
      "=== 82181 ===\n",
      "31 из 61\n",
      "=== 82182 ===\n",
      "32 из 61\n",
      "=== 90469 ===\n",
      "33 из 61\n",
      "=== 4 ===\n",
      "34 из 61\n",
      "=== 92144 ===\n",
      "35 из 61\n",
      "=== 92147 ===\n",
      "36 из 61\n",
      "=== 92149 ===\n",
      "37 из 61\n",
      "=== 92160 ===\n",
      "38 из 61\n",
      "=== 84949 ===\n",
      "39 из 61\n",
      "=== 84953 ===\n",
      "40 из 61\n",
      "=== 85476 ===\n",
      "41 из 61\n",
      "=== 85678 ===\n",
      "42 из 61\n",
      "=== 88306 ===\n",
      "43 из 61\n",
      "=== 85680 ===\n",
      "44 из 61\n",
      "=== 88309 ===\n",
      "45 из 61\n",
      "=== 88311 ===\n",
      "46 из 61\n",
      "=== 85278 ===\n",
      "47 из 61\n",
      "=== 85280 ===\n",
      "48 из 61\n",
      "=== 85281 ===\n",
      "49 из 61\n",
      "=== 85137 ===\n",
      "50 из 61\n",
      "=== 85139 ===\n",
      "51 из 61\n",
      "=== 92134 ===\n",
      "52 из 61\n",
      "=== 92135 ===\n",
      "53 из 61\n",
      "=== 92136 ===\n",
      "54 из 61\n",
      "=== 92137 ===\n",
      "55 из 61\n",
      "=== 85667 ===\n",
      "56 из 61\n",
      "=== 85669 ===\n",
      "57 из 61\n",
      "=== 85672 ===\n",
      "58 из 61\n",
      "=== 90340 ===\n",
      "59 из 61\n",
      "=== 78256 ===\n",
      "60 из 61\n",
      "=== 78217 ===\n",
      "61 из 61\n",
      "=== 92166 ===\n"
     ]
    },
    {
     "data": {
      "text/plain": [
       "[62759]"
      ]
     },
     "execution_count": 5,
     "metadata": {},
     "output_type": "execute_result"
    }
   ],
   "source": [
    "ias.commission_approve(2025, df)"
   ]
  },
  {
   "cell_type": "code",
   "execution_count": 6,
   "metadata": {},
   "outputs": [],
   "source": [
    "df = (df[df['Реестр №'] < 0])\n",
    "df.to_excel(file_name, index=False)"
   ]
  },
  {
   "cell_type": "code",
   "execution_count": null,
   "metadata": {},
   "outputs": [],
   "source": []
  }
 ],
 "metadata": {
  "kernelspec": {
   "display_name": "Python 3",
   "language": "python",
   "name": "python3"
  },
  "language_info": {
   "codemirror_mode": {
    "name": "ipython",
    "version": 3
   },
   "file_extension": ".py",
   "mimetype": "text/x-python",
   "name": "python",
   "nbconvert_exporter": "python",
   "pygments_lexer": "ipython3",
   "version": "3.8.5"
  }
 },
 "nbformat": 4,
 "nbformat_minor": 4
}
