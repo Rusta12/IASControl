{
 "cells": [
  {
   "cell_type": "code",
   "execution_count": 1,
   "metadata": {},
   "outputs": [],
   "source": [
    "import pandas as pd\n",
    "import numpy as np"
   ]
  },
  {
   "cell_type": "code",
   "execution_count": 2,
   "metadata": {},
   "outputs": [],
   "source": [
    "import new_ias_main_function as ias"
   ]
  },
  {
   "cell_type": "markdown",
   "metadata": {},
   "source": [
    "### Утвердить заявки"
   ]
  },
  {
   "cell_type": "code",
   "execution_count": 3,
   "metadata": {},
   "outputs": [],
   "source": [
    "file_name = r\"C:/DataIAS/Список спортмероприятий (утверждение).xlsx\""
   ]
  },
  {
   "cell_type": "code",
   "execution_count": 4,
   "metadata": {},
   "outputs": [],
   "source": [
    "#Загрузить файл с реестровыми номерами\n",
    "xls = pd.ExcelFile(file_name)\n",
    "df = pd.read_excel(xls, 'Sheet1')\n",
    "df.iloc[:,1] = ''"
   ]
  },
  {
   "cell_type": "code",
   "execution_count": null,
   "metadata": {
    "scrolled": true
   },
   "outputs": [
    {
     "name": "stdout",
     "output_type": "stream",
     "text": [
      "0 из 23\n",
      "=== 82828 ===\n",
      "1 из 23\n",
      "=== 91761 ===\n",
      "2 из 23\n",
      "=== 26074 ===\n",
      "3 из 23\n",
      "=== 63577 ===\n",
      "4 из 23\n",
      "=== 75204 ===\n",
      "5 из 23\n",
      "=== 69766 ===\n",
      "6 из 23\n",
      "=== 62854 ===\n",
      "7 из 23\n",
      "=== 62899 ===\n",
      "8 из 23\n",
      "=== 89102 ===\n",
      "9 из 23\n",
      "=== 84993 ===\n",
      "10 из 23\n",
      "=== 84997 ===\n",
      "11 из 23\n",
      "=== 88054 ===\n",
      "12 из 23\n",
      "=== 2 ===\n",
      "13 из 23\n",
      "=== 5 ===\n",
      "14 из 23\n",
      "=== 3 ===\n",
      "15 из 23\n",
      "=== 71850 ===\n",
      "16 из 23\n",
      "=== 71679 ===\n",
      "17 из 23\n",
      "=== 4543 ===\n",
      "18 из 23\n",
      "=== 2371 ===\n"
     ]
    }
   ],
   "source": [
    "ias.commission_approve(2025, df)"
   ]
  },
  {
   "cell_type": "code",
   "execution_count": null,
   "metadata": {},
   "outputs": [],
   "source": [
    "df = (df[df['Реестр №'] < 0])\n",
    "df.to_excel(file_name, index=False)"
   ]
  },
  {
   "cell_type": "code",
   "execution_count": null,
   "metadata": {},
   "outputs": [],
   "source": []
  }
 ],
 "metadata": {
  "kernelspec": {
   "display_name": "Python 3",
   "language": "python",
   "name": "python3"
  },
  "language_info": {
   "codemirror_mode": {
    "name": "ipython",
    "version": 3
   },
   "file_extension": ".py",
   "mimetype": "text/x-python",
   "name": "python",
   "nbconvert_exporter": "python",
   "pygments_lexer": "ipython3",
   "version": "3.8.3"
  }
 },
 "nbformat": 4,
 "nbformat_minor": 4
}
